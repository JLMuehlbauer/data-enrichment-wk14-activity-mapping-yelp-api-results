{
 "cells": [
  {
   "cell_type": "markdown",
   "id": "c6d4c9a7",
   "metadata": {
    "id": "8guYh-VR7nlX"
   },
   "source": [
    "# Part 2 - Mapping Yelp Search Results"
   ]
  },
  {
   "cell_type": "markdown",
   "id": "9be6e6c0",
   "metadata": {},
   "source": []
  },
  {
   "cell_type": "markdown",
   "id": "8f1dfbbf",
   "metadata": {},
   "source": [
    "## Objective"
   ]
  },
  {
   "cell_type": "markdown",
   "id": "37daea31",
   "metadata": {
    "id": "8guYh-VR7nlX"
   },
   "source": [
    "- For this CodeAlong, we will be working with the Yelp API results from last class. \n",
    "- You will load in the .csv.gz of your yelp results and prepare the data for visualization.\n",
    "- You will use Plotly Express to create an interactive map with all of the results."
   ]
  },
  {
   "cell_type": "markdown",
   "id": "0a02a2fd",
   "metadata": {
    "id": "8guYh-VR7nlX"
   },
   "source": [
    "## Tools You Will Use\n",
    "- Part 1:\n",
    "    - Yelp API:\n",
    "        - Getting Started: \n",
    "            - https://www.yelp.com/developers/documentation/v3/get_started\n",
    "\n",
    "    - `YelpAPI` python package\n",
    "        -  \"YelpAPI\": https://github.com/gfairchild/yelpapi\n",
    "- Part 2:\n",
    "\n",
    "    - Plotly Express: https://plotly.com/python/getting-started/\n",
    "        - With Mapbox API: https://www.mapbox.com/\n",
    "        - `px.scatter_mapbox` [Documentation](https://plotly.com/python/scattermapbox/): \n",
    "\n",
    "\n"
   ]
  },
  {
   "cell_type": "markdown",
   "id": "a3f15049",
   "metadata": {},
   "source": [
    "### Applying Code From\n",
    "- [Advanced Transformations with Pandas - Part 1](https://login.codingdojo.com/m/376/12529/88086)\n",
    "- [Advanced Transformations with Pandas - Part 2](https://login.codingdojo.com/m/376/12529/88088)"
   ]
  },
  {
   "cell_type": "markdown",
   "id": "745e757f",
   "metadata": {},
   "source": [
    "### Goal"
   ]
  },
  {
   "cell_type": "markdown",
   "id": "a27ea8f9",
   "metadata": {},
   "source": [
    "- We want to create a map with every restaurant plotted as a scatter plot with detailed information that appears when we hover over a business\n",
    "- We will use plotly express's `px.scatter_mapbox` function to accomplish this.\n",
    "    - https://plotly.com/python/scattermapbox/\n",
    "    \n",
    "    - We will need a Mapbox API token for some of the options:\n",
    "        - https://studio.mapbox.com/\n",
    "    "
   ]
  },
  {
   "cell_type": "markdown",
   "id": "8c50b2b6",
   "metadata": {},
   "source": [
    "# Loading Data from Part 1"
   ]
  },
  {
   "cell_type": "code",
   "execution_count": 1,
   "id": "ffa40ba8",
   "metadata": {},
   "outputs": [
    {
     "name": "stdout",
     "output_type": "stream",
     "text": [
      "Requirement already satisfied: plotly in /Users/jacksonmuehlbauer/opt/anaconda3/envs/dojo-env/lib/python3.9/site-packages (5.11.0)\r\n",
      "Requirement already satisfied: tenacity>=6.2.0 in /Users/jacksonmuehlbauer/opt/anaconda3/envs/dojo-env/lib/python3.9/site-packages (from plotly) (8.1.0)\r\n"
     ]
    }
   ],
   "source": [
    "## Plotly is not included in your dojo-env\n",
    "!pip install plotly"
   ]
  },
  {
   "cell_type": "code",
   "execution_count": 2,
   "id": "6c26b323",
   "metadata": {},
   "outputs": [],
   "source": [
    "# Standard Imports\n",
    "import numpy as np\n",
    "import pandas as pd\n",
    "import matplotlib.pyplot as plt\n",
    "import seaborn as sns\n",
    "\n",
    "import json\n",
    "\n",
    "## importing plotly \n",
    "import plotly.express as px"
   ]
  },
  {
   "cell_type": "code",
   "execution_count": 3,
   "id": "73f882e7",
   "metadata": {},
   "outputs": [
    {
     "data": {
      "text/html": [
       "<div>\n",
       "<style scoped>\n",
       "    .dataframe tbody tr th:only-of-type {\n",
       "        vertical-align: middle;\n",
       "    }\n",
       "\n",
       "    .dataframe tbody tr th {\n",
       "        vertical-align: top;\n",
       "    }\n",
       "\n",
       "    .dataframe thead th {\n",
       "        text-align: right;\n",
       "    }\n",
       "</style>\n",
       "<table border=\"1\" class=\"dataframe\">\n",
       "  <thead>\n",
       "    <tr style=\"text-align: right;\">\n",
       "      <th></th>\n",
       "      <th>id</th>\n",
       "      <th>alias</th>\n",
       "      <th>name</th>\n",
       "      <th>image_url</th>\n",
       "      <th>is_closed</th>\n",
       "      <th>url</th>\n",
       "      <th>review_count</th>\n",
       "      <th>categories</th>\n",
       "      <th>rating</th>\n",
       "      <th>coordinates</th>\n",
       "      <th>transactions</th>\n",
       "      <th>price</th>\n",
       "      <th>location</th>\n",
       "      <th>phone</th>\n",
       "      <th>display_phone</th>\n",
       "      <th>distance</th>\n",
       "    </tr>\n",
       "  </thead>\n",
       "  <tbody>\n",
       "    <tr>\n",
       "      <th>0</th>\n",
       "      <td>mTnoCM3BrLttWb7m9P5SQQ</td>\n",
       "      <td>wakame-sushi-and-asian-bistro-minneapolis</td>\n",
       "      <td>Wakame Sushi &amp; Asian Bistro</td>\n",
       "      <td>https://s3-media1.fl.yelpcdn.com/bphoto/_PG51j...</td>\n",
       "      <td>False</td>\n",
       "      <td>https://www.yelp.com/biz/wakame-sushi-and-asia...</td>\n",
       "      <td>819</td>\n",
       "      <td>[{'alias': 'sushi', 'title': 'Sushi Bars'}, {'...</td>\n",
       "      <td>4.0</td>\n",
       "      <td>{'latitude': 44.946802, 'longitude': -93.321968}</td>\n",
       "      <td>[]</td>\n",
       "      <td>$$</td>\n",
       "      <td>{'address1': '3070 Excelsior Blvd', 'address2'...</td>\n",
       "      <td>1.612886e+10</td>\n",
       "      <td>(612) 886-2484</td>\n",
       "      <td>5431.153227</td>\n",
       "    </tr>\n",
       "    <tr>\n",
       "      <th>1</th>\n",
       "      <td>kcf7Bc1KKk-qoGJ2QIQVvw</td>\n",
       "      <td>billy-sushi-minneapolis</td>\n",
       "      <td>Billy Sushi</td>\n",
       "      <td>https://s3-media3.fl.yelpcdn.com/bphoto/ynRfeG...</td>\n",
       "      <td>False</td>\n",
       "      <td>https://www.yelp.com/biz/billy-sushi-minneapol...</td>\n",
       "      <td>214</td>\n",
       "      <td>[{'alias': 'japanese', 'title': 'Japanese'}, {...</td>\n",
       "      <td>4.0</td>\n",
       "      <td>{'latitude': 44.984156, 'longitude': -93.26878...</td>\n",
       "      <td>['delivery']</td>\n",
       "      <td>$$$</td>\n",
       "      <td>{'address1': '116 N First Ave', 'address2': No...</td>\n",
       "      <td>NaN</td>\n",
       "      <td>NaN</td>\n",
       "      <td>1627.114072</td>\n",
       "    </tr>\n",
       "    <tr>\n",
       "      <th>2</th>\n",
       "      <td>RFLSUYCsAAJAneScJl51gA</td>\n",
       "      <td>kura-revolving-sushi-bar-bloomington-3</td>\n",
       "      <td>Kura Revolving Sushi Bar</td>\n",
       "      <td>https://s3-media4.fl.yelpcdn.com/bphoto/cjVtPO...</td>\n",
       "      <td>False</td>\n",
       "      <td>https://www.yelp.com/biz/kura-revolving-sushi-...</td>\n",
       "      <td>39</td>\n",
       "      <td>[{'alias': 'conveyorsushi', 'title': 'Conveyor...</td>\n",
       "      <td>4.0</td>\n",
       "      <td>{'latitude': 44.851055585227364, 'longitude': ...</td>\n",
       "      <td>[]</td>\n",
       "      <td>NaN</td>\n",
       "      <td>{'address1': '378 N Garden', 'address2': '', '...</td>\n",
       "      <td>NaN</td>\n",
       "      <td>NaN</td>\n",
       "      <td>13388.384050</td>\n",
       "    </tr>\n",
       "    <tr>\n",
       "      <th>3</th>\n",
       "      <td>FR9ZFGmwrrxCrolxZDy6NQ</td>\n",
       "      <td>sushi-train-minneapolis</td>\n",
       "      <td>Sushi Train</td>\n",
       "      <td>https://s3-media3.fl.yelpcdn.com/bphoto/wlQO7g...</td>\n",
       "      <td>False</td>\n",
       "      <td>https://www.yelp.com/biz/sushi-train-minneapol...</td>\n",
       "      <td>345</td>\n",
       "      <td>[{'alias': 'sushi', 'title': 'Sushi Bars'}, {'...</td>\n",
       "      <td>3.5</td>\n",
       "      <td>{'latitude': 44.971904, 'longitude': -93.276914}</td>\n",
       "      <td>['delivery', 'pickup']</td>\n",
       "      <td>$$</td>\n",
       "      <td>{'address1': '1200 Nicollet Mall', 'address2':...</td>\n",
       "      <td>1.612260e+10</td>\n",
       "      <td>(612) 259-8488</td>\n",
       "      <td>1218.244125</td>\n",
       "    </tr>\n",
       "    <tr>\n",
       "      <th>4</th>\n",
       "      <td>ddpjLv0P6iu7p1dRGCPWWw</td>\n",
       "      <td>sushi-takatsu-minneapolis</td>\n",
       "      <td>Sushi Takatsu</td>\n",
       "      <td>https://s3-media1.fl.yelpcdn.com/bphoto/WVD-r_...</td>\n",
       "      <td>False</td>\n",
       "      <td>https://www.yelp.com/biz/sushi-takatsu-minneap...</td>\n",
       "      <td>142</td>\n",
       "      <td>[{'alias': 'sushi', 'title': 'Sushi Bars'}, {'...</td>\n",
       "      <td>4.5</td>\n",
       "      <td>{'latitude': 44.9760103, 'longitude': -93.2709...</td>\n",
       "      <td>['delivery', 'pickup']</td>\n",
       "      <td>$</td>\n",
       "      <td>{'address1': '733 Marquette Ave', 'address2': ...</td>\n",
       "      <td>1.612340e+10</td>\n",
       "      <td>(612) 339-5981</td>\n",
       "      <td>946.209834</td>\n",
       "    </tr>\n",
       "  </tbody>\n",
       "</table>\n",
       "</div>"
      ],
      "text/plain": [
       "                       id                                      alias  \\\n",
       "0  mTnoCM3BrLttWb7m9P5SQQ  wakame-sushi-and-asian-bistro-minneapolis   \n",
       "1  kcf7Bc1KKk-qoGJ2QIQVvw                    billy-sushi-minneapolis   \n",
       "2  RFLSUYCsAAJAneScJl51gA     kura-revolving-sushi-bar-bloomington-3   \n",
       "3  FR9ZFGmwrrxCrolxZDy6NQ                    sushi-train-minneapolis   \n",
       "4  ddpjLv0P6iu7p1dRGCPWWw                  sushi-takatsu-minneapolis   \n",
       "\n",
       "                          name  \\\n",
       "0  Wakame Sushi & Asian Bistro   \n",
       "1                  Billy Sushi   \n",
       "2     Kura Revolving Sushi Bar   \n",
       "3                  Sushi Train   \n",
       "4                Sushi Takatsu   \n",
       "\n",
       "                                           image_url  is_closed  \\\n",
       "0  https://s3-media1.fl.yelpcdn.com/bphoto/_PG51j...      False   \n",
       "1  https://s3-media3.fl.yelpcdn.com/bphoto/ynRfeG...      False   \n",
       "2  https://s3-media4.fl.yelpcdn.com/bphoto/cjVtPO...      False   \n",
       "3  https://s3-media3.fl.yelpcdn.com/bphoto/wlQO7g...      False   \n",
       "4  https://s3-media1.fl.yelpcdn.com/bphoto/WVD-r_...      False   \n",
       "\n",
       "                                                 url  review_count  \\\n",
       "0  https://www.yelp.com/biz/wakame-sushi-and-asia...           819   \n",
       "1  https://www.yelp.com/biz/billy-sushi-minneapol...           214   \n",
       "2  https://www.yelp.com/biz/kura-revolving-sushi-...            39   \n",
       "3  https://www.yelp.com/biz/sushi-train-minneapol...           345   \n",
       "4  https://www.yelp.com/biz/sushi-takatsu-minneap...           142   \n",
       "\n",
       "                                          categories  rating  \\\n",
       "0  [{'alias': 'sushi', 'title': 'Sushi Bars'}, {'...     4.0   \n",
       "1  [{'alias': 'japanese', 'title': 'Japanese'}, {...     4.0   \n",
       "2  [{'alias': 'conveyorsushi', 'title': 'Conveyor...     4.0   \n",
       "3  [{'alias': 'sushi', 'title': 'Sushi Bars'}, {'...     3.5   \n",
       "4  [{'alias': 'sushi', 'title': 'Sushi Bars'}, {'...     4.5   \n",
       "\n",
       "                                         coordinates            transactions  \\\n",
       "0   {'latitude': 44.946802, 'longitude': -93.321968}                      []   \n",
       "1  {'latitude': 44.984156, 'longitude': -93.26878...            ['delivery']   \n",
       "2  {'latitude': 44.851055585227364, 'longitude': ...                      []   \n",
       "3   {'latitude': 44.971904, 'longitude': -93.276914}  ['delivery', 'pickup']   \n",
       "4  {'latitude': 44.9760103, 'longitude': -93.2709...  ['delivery', 'pickup']   \n",
       "\n",
       "  price                                           location         phone  \\\n",
       "0    $$  {'address1': '3070 Excelsior Blvd', 'address2'...  1.612886e+10   \n",
       "1   $$$  {'address1': '116 N First Ave', 'address2': No...           NaN   \n",
       "2   NaN  {'address1': '378 N Garden', 'address2': '', '...           NaN   \n",
       "3    $$  {'address1': '1200 Nicollet Mall', 'address2':...  1.612260e+10   \n",
       "4     $  {'address1': '733 Marquette Ave', 'address2': ...  1.612340e+10   \n",
       "\n",
       "    display_phone      distance  \n",
       "0  (612) 886-2484   5431.153227  \n",
       "1             NaN   1627.114072  \n",
       "2             NaN  13388.384050  \n",
       "3  (612) 259-8488   1218.244125  \n",
       "4  (612) 339-5981    946.209834  "
      ]
     },
     "execution_count": 3,
     "metadata": {},
     "output_type": "execute_result"
    }
   ],
   "source": [
    "## Load in csv.gz\n",
    "df = pd.read_csv(\"Data/Minneapolis-sushi.csv.gz\")\n",
    "df.head()"
   ]
  },
  {
   "cell_type": "markdown",
   "id": "182d9a50",
   "metadata": {},
   "source": [
    "## Required Preprocessing "
   ]
  },
  {
   "cell_type": "markdown",
   "id": "9db8a265",
   "metadata": {},
   "source": [
    "- 1. We need to get the latitude and longitude for each business as separate columns.\n",
    "- We also want to be able to show the restaurants:\n",
    "    - name,\n",
    "    - price range\n",
    "    - address\n",
    "    - and if they do delivery or takeout."
   ]
  },
  {
   "cell_type": "markdown",
   "id": "13d541ac",
   "metadata": {},
   "source": [
    "### Separating Latitude and Longitude"
   ]
  },
  {
   "cell_type": "code",
   "execution_count": 4,
   "id": "825c85f0",
   "metadata": {},
   "outputs": [
    {
     "data": {
      "text/html": [
       "<div>\n",
       "<style scoped>\n",
       "    .dataframe tbody tr th:only-of-type {\n",
       "        vertical-align: middle;\n",
       "    }\n",
       "\n",
       "    .dataframe tbody tr th {\n",
       "        vertical-align: top;\n",
       "    }\n",
       "\n",
       "    .dataframe thead th {\n",
       "        text-align: right;\n",
       "    }\n",
       "</style>\n",
       "<table border=\"1\" class=\"dataframe\">\n",
       "  <thead>\n",
       "    <tr style=\"text-align: right;\">\n",
       "      <th></th>\n",
       "      <th>0</th>\n",
       "    </tr>\n",
       "  </thead>\n",
       "  <tbody>\n",
       "    <tr>\n",
       "      <th>0</th>\n",
       "      <td>{'latitude': 44.946802, 'longitude': -93.321968}</td>\n",
       "    </tr>\n",
       "    <tr>\n",
       "      <th>1</th>\n",
       "      <td>{'latitude': 44.984156, 'longitude': -93.26878...</td>\n",
       "    </tr>\n",
       "    <tr>\n",
       "      <th>2</th>\n",
       "      <td>{'latitude': 44.851055585227364, 'longitude': ...</td>\n",
       "    </tr>\n",
       "    <tr>\n",
       "      <th>3</th>\n",
       "      <td>{'latitude': 44.971904, 'longitude': -93.276914}</td>\n",
       "    </tr>\n",
       "    <tr>\n",
       "      <th>4</th>\n",
       "      <td>{'latitude': 44.9760103, 'longitude': -93.2709...</td>\n",
       "    </tr>\n",
       "    <tr>\n",
       "      <th>...</th>\n",
       "      <td>...</td>\n",
       "    </tr>\n",
       "    <tr>\n",
       "      <th>355</th>\n",
       "      <td>{'latitude': 44.867687, 'longitude': -93.328011}</td>\n",
       "    </tr>\n",
       "    <tr>\n",
       "      <th>356</th>\n",
       "      <td>{'latitude': 45.091528, 'longitude': -93.435945}</td>\n",
       "    </tr>\n",
       "    <tr>\n",
       "      <th>357</th>\n",
       "      <td>{'latitude': 45.02836, 'longitude': -93.01963}</td>\n",
       "    </tr>\n",
       "    <tr>\n",
       "      <th>358</th>\n",
       "      <td>{'latitude': 45.038845, 'longitude': -93.020922}</td>\n",
       "    </tr>\n",
       "    <tr>\n",
       "      <th>359</th>\n",
       "      <td>{'latitude': 45.1027486, 'longitude': -93.4482...</td>\n",
       "    </tr>\n",
       "  </tbody>\n",
       "</table>\n",
       "<p>360 rows × 1 columns</p>\n",
       "</div>"
      ],
      "text/plain": [
       "                                                     0\n",
       "0     {'latitude': 44.946802, 'longitude': -93.321968}\n",
       "1    {'latitude': 44.984156, 'longitude': -93.26878...\n",
       "2    {'latitude': 44.851055585227364, 'longitude': ...\n",
       "3     {'latitude': 44.971904, 'longitude': -93.276914}\n",
       "4    {'latitude': 44.9760103, 'longitude': -93.2709...\n",
       "..                                                 ...\n",
       "355   {'latitude': 44.867687, 'longitude': -93.328011}\n",
       "356   {'latitude': 45.091528, 'longitude': -93.435945}\n",
       "357     {'latitude': 45.02836, 'longitude': -93.01963}\n",
       "358   {'latitude': 45.038845, 'longitude': -93.020922}\n",
       "359  {'latitude': 45.1027486, 'longitude': -93.4482...\n",
       "\n",
       "[360 rows x 1 columns]"
      ]
     },
     "execution_count": 4,
     "metadata": {},
     "output_type": "execute_result"
    }
   ],
   "source": [
    "## use .apply pd.Series to convert a dict to columns\n",
    "df['coordinates'].apply(pd.Series)"
   ]
  },
  {
   "cell_type": "markdown",
   "id": "faecca22",
   "metadata": {},
   "source": [
    "- Why didn't that work???"
   ]
  },
  {
   "cell_type": "code",
   "execution_count": 5,
   "id": "4c52b779",
   "metadata": {},
   "outputs": [
    {
     "data": {
      "text/plain": [
       "\"{'latitude': 44.984156, 'longitude': -93.2687831616949}\""
      ]
     },
     "execution_count": 5,
     "metadata": {},
     "output_type": "execute_result"
    }
   ],
   "source": [
    "## slice out a single test coordinate\n",
    "test_coord = df.loc[1, 'coordinates']\n",
    "test_coord"
   ]
  },
  {
   "cell_type": "markdown",
   "id": "819d8252",
   "metadata": {},
   "source": [
    "- Its not a dictionary anymore!!! WTF??\n",
    "    - CSV files cant store iterables (lists, dictionaries) so they get converted to strings."
   ]
  },
  {
   "cell_type": "markdown",
   "id": "df7e7c71",
   "metadata": {},
   "source": [
    "### Fixing the String-Dictionaries"
   ]
  },
  {
   "cell_type": "markdown",
   "id": "76185b76",
   "metadata": {},
   "source": [
    "- The json module has another version of load and dump called `json.loads` and `json.dumps`\n",
    "    - These are designed to process STRINGS instead of files. \n",
    "    \n",
    "- If we use `json.loads` we can convert our string dictionary into an actual dictionary. "
   ]
  },
  {
   "cell_type": "code",
   "execution_count": 6,
   "id": "8e4ab9ed",
   "metadata": {},
   "outputs": [
    {
     "ename": "JSONDecodeError",
     "evalue": "Expecting property name enclosed in double quotes: line 1 column 2 (char 1)",
     "output_type": "error",
     "traceback": [
      "\u001b[0;31m---------------------------------------------------------------------------\u001b[0m",
      "\u001b[0;31mJSONDecodeError\u001b[0m                           Traceback (most recent call last)",
      "Cell \u001b[0;32mIn [6], line 2\u001b[0m\n\u001b[1;32m      1\u001b[0m \u001b[38;5;66;03m## Use json.loads on the test coordinate\u001b[39;00m\n\u001b[0;32m----> 2\u001b[0m \u001b[43mjson\u001b[49m\u001b[38;5;241;43m.\u001b[39;49m\u001b[43mloads\u001b[49m\u001b[43m(\u001b[49m\u001b[43mtest_coord\u001b[49m\u001b[43m)\u001b[49m\n",
      "File \u001b[0;32m~/opt/anaconda3/envs/dojo-env/lib/python3.9/json/__init__.py:346\u001b[0m, in \u001b[0;36mloads\u001b[0;34m(s, cls, object_hook, parse_float, parse_int, parse_constant, object_pairs_hook, **kw)\u001b[0m\n\u001b[1;32m    341\u001b[0m     s \u001b[38;5;241m=\u001b[39m s\u001b[38;5;241m.\u001b[39mdecode(detect_encoding(s), \u001b[38;5;124m'\u001b[39m\u001b[38;5;124msurrogatepass\u001b[39m\u001b[38;5;124m'\u001b[39m)\n\u001b[1;32m    343\u001b[0m \u001b[38;5;28;01mif\u001b[39;00m (\u001b[38;5;28mcls\u001b[39m \u001b[38;5;129;01mis\u001b[39;00m \u001b[38;5;28;01mNone\u001b[39;00m \u001b[38;5;129;01mand\u001b[39;00m object_hook \u001b[38;5;129;01mis\u001b[39;00m \u001b[38;5;28;01mNone\u001b[39;00m \u001b[38;5;129;01mand\u001b[39;00m\n\u001b[1;32m    344\u001b[0m         parse_int \u001b[38;5;129;01mis\u001b[39;00m \u001b[38;5;28;01mNone\u001b[39;00m \u001b[38;5;129;01mand\u001b[39;00m parse_float \u001b[38;5;129;01mis\u001b[39;00m \u001b[38;5;28;01mNone\u001b[39;00m \u001b[38;5;129;01mand\u001b[39;00m\n\u001b[1;32m    345\u001b[0m         parse_constant \u001b[38;5;129;01mis\u001b[39;00m \u001b[38;5;28;01mNone\u001b[39;00m \u001b[38;5;129;01mand\u001b[39;00m object_pairs_hook \u001b[38;5;129;01mis\u001b[39;00m \u001b[38;5;28;01mNone\u001b[39;00m \u001b[38;5;129;01mand\u001b[39;00m \u001b[38;5;129;01mnot\u001b[39;00m kw):\n\u001b[0;32m--> 346\u001b[0m     \u001b[38;5;28;01mreturn\u001b[39;00m \u001b[43m_default_decoder\u001b[49m\u001b[38;5;241;43m.\u001b[39;49m\u001b[43mdecode\u001b[49m\u001b[43m(\u001b[49m\u001b[43ms\u001b[49m\u001b[43m)\u001b[49m\n\u001b[1;32m    347\u001b[0m \u001b[38;5;28;01mif\u001b[39;00m \u001b[38;5;28mcls\u001b[39m \u001b[38;5;129;01mis\u001b[39;00m \u001b[38;5;28;01mNone\u001b[39;00m:\n\u001b[1;32m    348\u001b[0m     \u001b[38;5;28mcls\u001b[39m \u001b[38;5;241m=\u001b[39m JSONDecoder\n",
      "File \u001b[0;32m~/opt/anaconda3/envs/dojo-env/lib/python3.9/json/decoder.py:337\u001b[0m, in \u001b[0;36mJSONDecoder.decode\u001b[0;34m(self, s, _w)\u001b[0m\n\u001b[1;32m    332\u001b[0m \u001b[38;5;28;01mdef\u001b[39;00m \u001b[38;5;21mdecode\u001b[39m(\u001b[38;5;28mself\u001b[39m, s, _w\u001b[38;5;241m=\u001b[39mWHITESPACE\u001b[38;5;241m.\u001b[39mmatch):\n\u001b[1;32m    333\u001b[0m     \u001b[38;5;124;03m\"\"\"Return the Python representation of ``s`` (a ``str`` instance\u001b[39;00m\n\u001b[1;32m    334\u001b[0m \u001b[38;5;124;03m    containing a JSON document).\u001b[39;00m\n\u001b[1;32m    335\u001b[0m \n\u001b[1;32m    336\u001b[0m \u001b[38;5;124;03m    \"\"\"\u001b[39;00m\n\u001b[0;32m--> 337\u001b[0m     obj, end \u001b[38;5;241m=\u001b[39m \u001b[38;5;28;43mself\u001b[39;49m\u001b[38;5;241;43m.\u001b[39;49m\u001b[43mraw_decode\u001b[49m\u001b[43m(\u001b[49m\u001b[43ms\u001b[49m\u001b[43m,\u001b[49m\u001b[43m \u001b[49m\u001b[43midx\u001b[49m\u001b[38;5;241;43m=\u001b[39;49m\u001b[43m_w\u001b[49m\u001b[43m(\u001b[49m\u001b[43ms\u001b[49m\u001b[43m,\u001b[49m\u001b[43m \u001b[49m\u001b[38;5;241;43m0\u001b[39;49m\u001b[43m)\u001b[49m\u001b[38;5;241;43m.\u001b[39;49m\u001b[43mend\u001b[49m\u001b[43m(\u001b[49m\u001b[43m)\u001b[49m\u001b[43m)\u001b[49m\n\u001b[1;32m    338\u001b[0m     end \u001b[38;5;241m=\u001b[39m _w(s, end)\u001b[38;5;241m.\u001b[39mend()\n\u001b[1;32m    339\u001b[0m     \u001b[38;5;28;01mif\u001b[39;00m end \u001b[38;5;241m!=\u001b[39m \u001b[38;5;28mlen\u001b[39m(s):\n",
      "File \u001b[0;32m~/opt/anaconda3/envs/dojo-env/lib/python3.9/json/decoder.py:353\u001b[0m, in \u001b[0;36mJSONDecoder.raw_decode\u001b[0;34m(self, s, idx)\u001b[0m\n\u001b[1;32m    344\u001b[0m \u001b[38;5;124;03m\"\"\"Decode a JSON document from ``s`` (a ``str`` beginning with\u001b[39;00m\n\u001b[1;32m    345\u001b[0m \u001b[38;5;124;03ma JSON document) and return a 2-tuple of the Python\u001b[39;00m\n\u001b[1;32m    346\u001b[0m \u001b[38;5;124;03mrepresentation and the index in ``s`` where the document ended.\u001b[39;00m\n\u001b[0;32m   (...)\u001b[0m\n\u001b[1;32m    350\u001b[0m \n\u001b[1;32m    351\u001b[0m \u001b[38;5;124;03m\"\"\"\u001b[39;00m\n\u001b[1;32m    352\u001b[0m \u001b[38;5;28;01mtry\u001b[39;00m:\n\u001b[0;32m--> 353\u001b[0m     obj, end \u001b[38;5;241m=\u001b[39m \u001b[38;5;28;43mself\u001b[39;49m\u001b[38;5;241;43m.\u001b[39;49m\u001b[43mscan_once\u001b[49m\u001b[43m(\u001b[49m\u001b[43ms\u001b[49m\u001b[43m,\u001b[49m\u001b[43m \u001b[49m\u001b[43midx\u001b[49m\u001b[43m)\u001b[49m\n\u001b[1;32m    354\u001b[0m \u001b[38;5;28;01mexcept\u001b[39;00m \u001b[38;5;167;01mStopIteration\u001b[39;00m \u001b[38;5;28;01mas\u001b[39;00m err:\n\u001b[1;32m    355\u001b[0m     \u001b[38;5;28;01mraise\u001b[39;00m JSONDecodeError(\u001b[38;5;124m\"\u001b[39m\u001b[38;5;124mExpecting value\u001b[39m\u001b[38;5;124m\"\u001b[39m, s, err\u001b[38;5;241m.\u001b[39mvalue) \u001b[38;5;28;01mfrom\u001b[39;00m \u001b[38;5;28mNone\u001b[39m\n",
      "\u001b[0;31mJSONDecodeError\u001b[0m: Expecting property name enclosed in double quotes: line 1 column 2 (char 1)"
     ]
    }
   ],
   "source": [
    "## Use json.loads on the test coordinate\n",
    "json.loads(test_coord)"
   ]
  },
  {
   "cell_type": "markdown",
   "id": "89771042",
   "metadata": {},
   "source": [
    "- JSON requires double quotes!"
   ]
  },
  {
   "cell_type": "code",
   "execution_count": 7,
   "id": "25a459c3",
   "metadata": {},
   "outputs": [
    {
     "data": {
      "text/plain": [
       "'{\"latitude\": 44.984156, \"longitude\": -93.2687831616949}'"
      ]
     },
     "execution_count": 7,
     "metadata": {},
     "output_type": "execute_result"
    }
   ],
   "source": [
    "## replace single ' with \" \n",
    "test_coord = test_coord.replace(\"'\", '\"')\n",
    "test_coord"
   ]
  },
  {
   "cell_type": "code",
   "execution_count": 8,
   "id": "baf7b4ce",
   "metadata": {},
   "outputs": [
    {
     "data": {
      "text/plain": [
       "{'latitude': 44.984156, 'longitude': -93.2687831616949}"
      ]
     },
     "execution_count": 8,
     "metadata": {},
     "output_type": "execute_result"
    }
   ],
   "source": [
    "## Use json.loads on the test coordinate, again\n",
    "json.loads(test_coord)"
   ]
  },
  {
   "cell_type": "markdown",
   "id": "ac9a2c61",
   "metadata": {},
   "source": [
    "### Now, how can we apply this same process to the entire column??"
   ]
  },
  {
   "cell_type": "code",
   "execution_count": 9,
   "id": "815d26be",
   "metadata": {},
   "outputs": [],
   "source": [
    "## replace ' with \" (entire column)\n",
    "df['coordinates'] = df['coordinates'].str.replace(\"'\", '\"')\n",
    "## apply json.loads\n",
    "df['coordinates'] = df['coordinates'].apply(json.loads)"
   ]
  },
  {
   "cell_type": "code",
   "execution_count": 10,
   "id": "b417c990",
   "metadata": {},
   "outputs": [
    {
     "data": {
      "text/plain": [
       "{'latitude': 44.91163, 'longitude': -93.32865}"
      ]
     },
     "execution_count": 10,
     "metadata": {},
     "output_type": "execute_result"
    }
   ],
   "source": [
    "## slice out a single test coordinate\n",
    "test_coord = df.loc[5, 'coordinates']\n",
    "test_coord"
   ]
  },
  {
   "cell_type": "markdown",
   "id": "a825c2f4",
   "metadata": {},
   "source": [
    "### Using Apply with pd.Series to convert a dictionary column into multiple columns"
   ]
  },
  {
   "cell_type": "code",
   "execution_count": 11,
   "id": "9b06ad2c",
   "metadata": {},
   "outputs": [
    {
     "data": {
      "text/html": [
       "<div>\n",
       "<style scoped>\n",
       "    .dataframe tbody tr th:only-of-type {\n",
       "        vertical-align: middle;\n",
       "    }\n",
       "\n",
       "    .dataframe tbody tr th {\n",
       "        vertical-align: top;\n",
       "    }\n",
       "\n",
       "    .dataframe thead th {\n",
       "        text-align: right;\n",
       "    }\n",
       "</style>\n",
       "<table border=\"1\" class=\"dataframe\">\n",
       "  <thead>\n",
       "    <tr style=\"text-align: right;\">\n",
       "      <th></th>\n",
       "      <th>latitude</th>\n",
       "      <th>longitude</th>\n",
       "    </tr>\n",
       "  </thead>\n",
       "  <tbody>\n",
       "    <tr>\n",
       "      <th>0</th>\n",
       "      <td>44.946802</td>\n",
       "      <td>-93.321968</td>\n",
       "    </tr>\n",
       "    <tr>\n",
       "      <th>1</th>\n",
       "      <td>44.984156</td>\n",
       "      <td>-93.268783</td>\n",
       "    </tr>\n",
       "    <tr>\n",
       "      <th>2</th>\n",
       "      <td>44.851056</td>\n",
       "      <td>-93.239506</td>\n",
       "    </tr>\n",
       "    <tr>\n",
       "      <th>3</th>\n",
       "      <td>44.971904</td>\n",
       "      <td>-93.276914</td>\n",
       "    </tr>\n",
       "    <tr>\n",
       "      <th>4</th>\n",
       "      <td>44.976010</td>\n",
       "      <td>-93.270922</td>\n",
       "    </tr>\n",
       "    <tr>\n",
       "      <th>...</th>\n",
       "      <td>...</td>\n",
       "      <td>...</td>\n",
       "    </tr>\n",
       "    <tr>\n",
       "      <th>355</th>\n",
       "      <td>44.867687</td>\n",
       "      <td>-93.328011</td>\n",
       "    </tr>\n",
       "    <tr>\n",
       "      <th>356</th>\n",
       "      <td>45.091528</td>\n",
       "      <td>-93.435945</td>\n",
       "    </tr>\n",
       "    <tr>\n",
       "      <th>357</th>\n",
       "      <td>45.028360</td>\n",
       "      <td>-93.019630</td>\n",
       "    </tr>\n",
       "    <tr>\n",
       "      <th>358</th>\n",
       "      <td>45.038845</td>\n",
       "      <td>-93.020922</td>\n",
       "    </tr>\n",
       "    <tr>\n",
       "      <th>359</th>\n",
       "      <td>45.102749</td>\n",
       "      <td>-93.448212</td>\n",
       "    </tr>\n",
       "  </tbody>\n",
       "</table>\n",
       "<p>360 rows × 2 columns</p>\n",
       "</div>"
      ],
      "text/plain": [
       "      latitude  longitude\n",
       "0    44.946802 -93.321968\n",
       "1    44.984156 -93.268783\n",
       "2    44.851056 -93.239506\n",
       "3    44.971904 -93.276914\n",
       "4    44.976010 -93.270922\n",
       "..         ...        ...\n",
       "355  44.867687 -93.328011\n",
       "356  45.091528 -93.435945\n",
       "357  45.028360 -93.019630\n",
       "358  45.038845 -93.020922\n",
       "359  45.102749 -93.448212\n",
       "\n",
       "[360 rows x 2 columns]"
      ]
     },
     "execution_count": 11,
     "metadata": {},
     "output_type": "execute_result"
    }
   ],
   "source": [
    "## use .apply pd.Series to convert a dict to columns\n",
    "df['coordinates'].apply(pd.Series)"
   ]
  },
  {
   "cell_type": "code",
   "execution_count": 12,
   "id": "a09d00b1",
   "metadata": {},
   "outputs": [
    {
     "data": {
      "text/html": [
       "<div>\n",
       "<style scoped>\n",
       "    .dataframe tbody tr th:only-of-type {\n",
       "        vertical-align: middle;\n",
       "    }\n",
       "\n",
       "    .dataframe tbody tr th {\n",
       "        vertical-align: top;\n",
       "    }\n",
       "\n",
       "    .dataframe thead th {\n",
       "        text-align: right;\n",
       "    }\n",
       "</style>\n",
       "<table border=\"1\" class=\"dataframe\">\n",
       "  <thead>\n",
       "    <tr style=\"text-align: right;\">\n",
       "      <th></th>\n",
       "      <th>id</th>\n",
       "      <th>alias</th>\n",
       "      <th>name</th>\n",
       "      <th>image_url</th>\n",
       "      <th>is_closed</th>\n",
       "      <th>url</th>\n",
       "      <th>review_count</th>\n",
       "      <th>categories</th>\n",
       "      <th>rating</th>\n",
       "      <th>transactions</th>\n",
       "      <th>price</th>\n",
       "      <th>location</th>\n",
       "      <th>phone</th>\n",
       "      <th>display_phone</th>\n",
       "      <th>distance</th>\n",
       "      <th>latitude</th>\n",
       "      <th>longitude</th>\n",
       "    </tr>\n",
       "  </thead>\n",
       "  <tbody>\n",
       "    <tr>\n",
       "      <th>0</th>\n",
       "      <td>mTnoCM3BrLttWb7m9P5SQQ</td>\n",
       "      <td>wakame-sushi-and-asian-bistro-minneapolis</td>\n",
       "      <td>Wakame Sushi &amp; Asian Bistro</td>\n",
       "      <td>https://s3-media1.fl.yelpcdn.com/bphoto/_PG51j...</td>\n",
       "      <td>False</td>\n",
       "      <td>https://www.yelp.com/biz/wakame-sushi-and-asia...</td>\n",
       "      <td>819</td>\n",
       "      <td>[{'alias': 'sushi', 'title': 'Sushi Bars'}, {'...</td>\n",
       "      <td>4.0</td>\n",
       "      <td>[]</td>\n",
       "      <td>$$</td>\n",
       "      <td>{'address1': '3070 Excelsior Blvd', 'address2'...</td>\n",
       "      <td>1.612886e+10</td>\n",
       "      <td>(612) 886-2484</td>\n",
       "      <td>5431.153227</td>\n",
       "      <td>44.946802</td>\n",
       "      <td>-93.321968</td>\n",
       "    </tr>\n",
       "    <tr>\n",
       "      <th>1</th>\n",
       "      <td>kcf7Bc1KKk-qoGJ2QIQVvw</td>\n",
       "      <td>billy-sushi-minneapolis</td>\n",
       "      <td>Billy Sushi</td>\n",
       "      <td>https://s3-media3.fl.yelpcdn.com/bphoto/ynRfeG...</td>\n",
       "      <td>False</td>\n",
       "      <td>https://www.yelp.com/biz/billy-sushi-minneapol...</td>\n",
       "      <td>214</td>\n",
       "      <td>[{'alias': 'japanese', 'title': 'Japanese'}, {...</td>\n",
       "      <td>4.0</td>\n",
       "      <td>['delivery']</td>\n",
       "      <td>$$$</td>\n",
       "      <td>{'address1': '116 N First Ave', 'address2': No...</td>\n",
       "      <td>NaN</td>\n",
       "      <td>NaN</td>\n",
       "      <td>1627.114072</td>\n",
       "      <td>44.984156</td>\n",
       "      <td>-93.268783</td>\n",
       "    </tr>\n",
       "  </tbody>\n",
       "</table>\n",
       "</div>"
      ],
      "text/plain": [
       "                       id                                      alias  \\\n",
       "0  mTnoCM3BrLttWb7m9P5SQQ  wakame-sushi-and-asian-bistro-minneapolis   \n",
       "1  kcf7Bc1KKk-qoGJ2QIQVvw                    billy-sushi-minneapolis   \n",
       "\n",
       "                          name  \\\n",
       "0  Wakame Sushi & Asian Bistro   \n",
       "1                  Billy Sushi   \n",
       "\n",
       "                                           image_url  is_closed  \\\n",
       "0  https://s3-media1.fl.yelpcdn.com/bphoto/_PG51j...      False   \n",
       "1  https://s3-media3.fl.yelpcdn.com/bphoto/ynRfeG...      False   \n",
       "\n",
       "                                                 url  review_count  \\\n",
       "0  https://www.yelp.com/biz/wakame-sushi-and-asia...           819   \n",
       "1  https://www.yelp.com/biz/billy-sushi-minneapol...           214   \n",
       "\n",
       "                                          categories  rating  transactions  \\\n",
       "0  [{'alias': 'sushi', 'title': 'Sushi Bars'}, {'...     4.0            []   \n",
       "1  [{'alias': 'japanese', 'title': 'Japanese'}, {...     4.0  ['delivery']   \n",
       "\n",
       "  price                                           location         phone  \\\n",
       "0    $$  {'address1': '3070 Excelsior Blvd', 'address2'...  1.612886e+10   \n",
       "1   $$$  {'address1': '116 N First Ave', 'address2': No...           NaN   \n",
       "\n",
       "    display_phone     distance   latitude  longitude  \n",
       "0  (612) 886-2484  5431.153227  44.946802 -93.321968  \n",
       "1             NaN  1627.114072  44.984156 -93.268783  "
      ]
     },
     "execution_count": 12,
     "metadata": {},
     "output_type": "execute_result"
    }
   ],
   "source": [
    "## Concatenate the 2 new columns and drop the original.\n",
    "df = pd.concat([df, df['coordinates'].apply(pd.Series)], axis = 1)\n",
    "df = df.drop(columns = 'coordinates')\n",
    "df.head(2)"
   ]
  },
  {
   "cell_type": "markdown",
   "id": "56b25f7a",
   "metadata": {},
   "source": [
    "## Creating a Simple Map"
   ]
  },
  {
   "cell_type": "markdown",
   "id": "cd5bc110",
   "metadata": {},
   "source": [
    "### Register for MapBox API"
   ]
  },
  {
   "cell_type": "markdown",
   "id": "73c91d8f",
   "metadata": {},
   "source": [
    "Mapbox API: https://www.mapbox.com/"
   ]
  },
  {
   "cell_type": "code",
   "execution_count": null,
   "id": "2e9b4e94",
   "metadata": {},
   "outputs": [],
   "source": [
    "## Load in mapbox api credentials from .secret\n"
   ]
  },
  {
   "cell_type": "markdown",
   "id": "cdb5689c",
   "metadata": {},
   "source": [
    "- Use the plotly express `set_maptbox_acccess_token` function"
   ]
  },
  {
   "cell_type": "code",
   "execution_count": null,
   "id": "7bf3a1c1",
   "metadata": {},
   "outputs": [],
   "source": [
    "## set mapbox token\n"
   ]
  },
  {
   "cell_type": "code",
   "execution_count": null,
   "id": "2214befe",
   "metadata": {},
   "outputs": [],
   "source": [
    "## use scatter_mapbox for M.V.P map\n"
   ]
  },
  {
   "cell_type": "markdown",
   "id": "d5b72ef0",
   "metadata": {},
   "source": [
    "### Adding Hover Data"
   ]
  },
  {
   "cell_type": "markdown",
   "id": "300eddca",
   "metadata": {},
   "source": [
    "- We want to show the restaurants:\n",
    "    - name\n",
    "    - price range\n",
    "    - address\n",
    "    - and if they do delivery or takeout.\n",
    "    \n",
    "    \n",
    "- We can use the `hover_name` and `hover_data` arguments for `px.scatter_mapbox` to add this info!"
   ]
  },
  {
   "cell_type": "code",
   "execution_count": null,
   "id": "46a7ef9e",
   "metadata": {},
   "outputs": [],
   "source": []
  },
  {
   "cell_type": "code",
   "execution_count": null,
   "id": "e05e4e1b",
   "metadata": {
    "scrolled": true
   },
   "outputs": [],
   "source": [
    "## add hover_name (name) and hover_data for price,rating,location\n"
   ]
  },
  {
   "cell_type": "markdown",
   "id": "09d744ca",
   "metadata": {},
   "source": [
    "### Fixing the Location Column"
   ]
  },
  {
   "cell_type": "code",
   "execution_count": null,
   "id": "15e6afdc",
   "metadata": {},
   "outputs": [],
   "source": [
    "## slice out a test address\n"
   ]
  },
  {
   "cell_type": "markdown",
   "id": "b573de0f",
   "metadata": {},
   "source": [
    "> Also a string-dictionary..."
   ]
  },
  {
   "cell_type": "code",
   "execution_count": null,
   "id": "e5862a23",
   "metadata": {},
   "outputs": [],
   "source": [
    "## replace ' with \"\n",
    "df['location'] = df['location'].str.replace(\"'\", '\"')\n",
    "df"
   ]
  },
  {
   "cell_type": "code",
   "execution_count": null,
   "id": "1606ed4a",
   "metadata": {},
   "outputs": [],
   "source": [
    "## apply json.loads\n"
   ]
  },
  {
   "cell_type": "markdown",
   "id": "6e3fc5c2",
   "metadata": {},
   "source": [
    "> Ruh roh....\n",
    "\n",
    "- Hmm, let's slice out a test_address again and let's write a function to accomplish this instead.\n",
    "    - We can use try and except in our function to get around the errors."
   ]
  },
  {
   "cell_type": "markdown",
   "id": "b0fe3a7a",
   "metadata": {},
   "source": [
    "### Fixing Addresses - with a custom function\n"
   ]
  },
  {
   "cell_type": "code",
   "execution_count": 18,
   "id": "b1964520",
   "metadata": {},
   "outputs": [
    {
     "data": {
      "text/plain": [
       "'{\"address1\": \"3070 Excelsior Blvd\", \"address2\": \"\", \"address3\": \"\", \"city\": \"Minneapolis\", \"zip_code\": \"55416\", \"country\": \"US\", \"state\": \"MN\", \"display_address\": [\"3070 Excelsior Blvd\", \"Minneapolis, MN 55416\"]}'"
      ]
     },
     "execution_count": 18,
     "metadata": {},
     "output_type": "execute_result"
    }
   ],
   "source": [
    "## slice out test address \n",
    "test_addr = df.loc[0, 'location']\n",
    "test_addr"
   ]
  },
  {
   "cell_type": "code",
   "execution_count": 19,
   "id": "89ee686e",
   "metadata": {},
   "outputs": [],
   "source": [
    "## write a function to just run json.loads on the address\n",
    "def fix_address(test_addr):\n",
    "    try:\n",
    "        return json.loads(test_addr)\n",
    "    except:\n",
    "        return 'Error'"
   ]
  },
  {
   "cell_type": "code",
   "execution_count": 20,
   "id": "0d25f01b",
   "metadata": {},
   "outputs": [
    {
     "data": {
      "text/plain": [
       "0      {'address1': '3070 Excelsior Blvd', 'address2'...\n",
       "1                                                  Error\n",
       "2                                                  Error\n",
       "3                                                  Error\n",
       "4      {'address1': '733 Marquette Ave', 'address2': ...\n",
       "                             ...                        \n",
       "355    {'address1': '7401 France Ave S', 'address2': ...\n",
       "356    {'address1': '12201 Elm Creek Blvd N', 'addres...\n",
       "357                                                Error\n",
       "358    {'address1': '1920 Buerkle Rd', 'address2': ''...\n",
       "359                                                Error\n",
       "Name: location, Length: 360, dtype: object"
      ]
     },
     "execution_count": 20,
     "metadata": {},
     "output_type": "execute_result"
    }
   ],
   "source": [
    "## test applying our function\n",
    "df['location'].apply(fix_address)"
   ]
  },
  {
   "cell_type": "markdown",
   "id": "c8cbc436",
   "metadata": {},
   "source": [
    "- It worked! Now let's save this as a new column (display_location),\n",
    "and then let's investigate the businesses that had an \"ERROR\"."
   ]
  },
  {
   "cell_type": "code",
   "execution_count": 21,
   "id": "49a511e8",
   "metadata": {},
   "outputs": [],
   "source": [
    "### save a new display_location column using our function\n",
    "df['display_location'] = df['location'].apply(fix_address)"
   ]
  },
  {
   "cell_type": "code",
   "execution_count": 22,
   "id": "346a2869",
   "metadata": {},
   "outputs": [
    {
     "data": {
      "text/html": [
       "<div>\n",
       "<style scoped>\n",
       "    .dataframe tbody tr th:only-of-type {\n",
       "        vertical-align: middle;\n",
       "    }\n",
       "\n",
       "    .dataframe tbody tr th {\n",
       "        vertical-align: top;\n",
       "    }\n",
       "\n",
       "    .dataframe thead th {\n",
       "        text-align: right;\n",
       "    }\n",
       "</style>\n",
       "<table border=\"1\" class=\"dataframe\">\n",
       "  <thead>\n",
       "    <tr style=\"text-align: right;\">\n",
       "      <th></th>\n",
       "      <th>id</th>\n",
       "      <th>alias</th>\n",
       "      <th>name</th>\n",
       "      <th>image_url</th>\n",
       "      <th>is_closed</th>\n",
       "      <th>url</th>\n",
       "      <th>review_count</th>\n",
       "      <th>categories</th>\n",
       "      <th>rating</th>\n",
       "      <th>transactions</th>\n",
       "      <th>price</th>\n",
       "      <th>location</th>\n",
       "      <th>phone</th>\n",
       "      <th>display_phone</th>\n",
       "      <th>distance</th>\n",
       "      <th>latitude</th>\n",
       "      <th>longitude</th>\n",
       "      <th>display_location</th>\n",
       "    </tr>\n",
       "  </thead>\n",
       "  <tbody>\n",
       "    <tr>\n",
       "      <th>1</th>\n",
       "      <td>kcf7Bc1KKk-qoGJ2QIQVvw</td>\n",
       "      <td>billy-sushi-minneapolis</td>\n",
       "      <td>Billy Sushi</td>\n",
       "      <td>https://s3-media3.fl.yelpcdn.com/bphoto/ynRfeG...</td>\n",
       "      <td>False</td>\n",
       "      <td>https://www.yelp.com/biz/billy-sushi-minneapol...</td>\n",
       "      <td>214</td>\n",
       "      <td>[{'alias': 'japanese', 'title': 'Japanese'}, {...</td>\n",
       "      <td>4.0</td>\n",
       "      <td>['delivery']</td>\n",
       "      <td>$$$</td>\n",
       "      <td>{\"address1\": \"116 N First Ave\", \"address2\": No...</td>\n",
       "      <td>NaN</td>\n",
       "      <td>NaN</td>\n",
       "      <td>1627.114072</td>\n",
       "      <td>44.984156</td>\n",
       "      <td>-93.268783</td>\n",
       "      <td>Error</td>\n",
       "    </tr>\n",
       "    <tr>\n",
       "      <th>2</th>\n",
       "      <td>RFLSUYCsAAJAneScJl51gA</td>\n",
       "      <td>kura-revolving-sushi-bar-bloomington-3</td>\n",
       "      <td>Kura Revolving Sushi Bar</td>\n",
       "      <td>https://s3-media4.fl.yelpcdn.com/bphoto/cjVtPO...</td>\n",
       "      <td>False</td>\n",
       "      <td>https://www.yelp.com/biz/kura-revolving-sushi-...</td>\n",
       "      <td>39</td>\n",
       "      <td>[{'alias': 'conveyorsushi', 'title': 'Conveyor...</td>\n",
       "      <td>4.0</td>\n",
       "      <td>[]</td>\n",
       "      <td>NaN</td>\n",
       "      <td>{\"address1\": \"378 N Garden\", \"address2\": \"\", \"...</td>\n",
       "      <td>NaN</td>\n",
       "      <td>NaN</td>\n",
       "      <td>13388.384050</td>\n",
       "      <td>44.851056</td>\n",
       "      <td>-93.239506</td>\n",
       "      <td>Error</td>\n",
       "    </tr>\n",
       "    <tr>\n",
       "      <th>3</th>\n",
       "      <td>FR9ZFGmwrrxCrolxZDy6NQ</td>\n",
       "      <td>sushi-train-minneapolis</td>\n",
       "      <td>Sushi Train</td>\n",
       "      <td>https://s3-media3.fl.yelpcdn.com/bphoto/wlQO7g...</td>\n",
       "      <td>False</td>\n",
       "      <td>https://www.yelp.com/biz/sushi-train-minneapol...</td>\n",
       "      <td>345</td>\n",
       "      <td>[{'alias': 'sushi', 'title': 'Sushi Bars'}, {'...</td>\n",
       "      <td>3.5</td>\n",
       "      <td>['delivery', 'pickup']</td>\n",
       "      <td>$$</td>\n",
       "      <td>{\"address1\": \"1200 Nicollet Mall\", \"address2\":...</td>\n",
       "      <td>1.612260e+10</td>\n",
       "      <td>(612) 259-8488</td>\n",
       "      <td>1218.244125</td>\n",
       "      <td>44.971904</td>\n",
       "      <td>-93.276914</td>\n",
       "      <td>Error</td>\n",
       "    </tr>\n",
       "    <tr>\n",
       "      <th>5</th>\n",
       "      <td>VtsXtKbe4KWYif90LAzACA</td>\n",
       "      <td>ama-sushi-edina</td>\n",
       "      <td>AMA Sushi</td>\n",
       "      <td>https://s3-media4.fl.yelpcdn.com/bphoto/2_f2xM...</td>\n",
       "      <td>False</td>\n",
       "      <td>https://www.yelp.com/biz/ama-sushi-edina?adjus...</td>\n",
       "      <td>62</td>\n",
       "      <td>[{'alias': 'sushi', 'title': 'Sushi Bars'}, {'...</td>\n",
       "      <td>4.5</td>\n",
       "      <td>[]</td>\n",
       "      <td>$$</td>\n",
       "      <td>{\"address1\": \"5033 France Ave S\", \"address2\": ...</td>\n",
       "      <td>1.952920e+10</td>\n",
       "      <td>(952) 920-1547</td>\n",
       "      <td>8419.254042</td>\n",
       "      <td>44.911630</td>\n",
       "      <td>-93.328650</td>\n",
       "      <td>Error</td>\n",
       "    </tr>\n",
       "    <tr>\n",
       "      <th>6</th>\n",
       "      <td>st6hKTpxG-0ltDs8gujkBQ</td>\n",
       "      <td>iwa-sushi-inver-grove-heights</td>\n",
       "      <td>Iwa Sushi</td>\n",
       "      <td>https://s3-media3.fl.yelpcdn.com/bphoto/cJs-4k...</td>\n",
       "      <td>False</td>\n",
       "      <td>https://www.yelp.com/biz/iwa-sushi-inver-grove...</td>\n",
       "      <td>146</td>\n",
       "      <td>[{'alias': 'sushi', 'title': 'Sushi Bars'}, {'...</td>\n",
       "      <td>4.5</td>\n",
       "      <td>['delivery', 'pickup']</td>\n",
       "      <td>$$</td>\n",
       "      <td>{\"address1\": \"7781 Amana Trl\", \"address2\": \"St...</td>\n",
       "      <td>1.651455e+10</td>\n",
       "      <td>(651) 455-1473</td>\n",
       "      <td>20099.649357</td>\n",
       "      <td>44.836572</td>\n",
       "      <td>-93.089877</td>\n",
       "      <td>Error</td>\n",
       "    </tr>\n",
       "    <tr>\n",
       "      <th>...</th>\n",
       "      <td>...</td>\n",
       "      <td>...</td>\n",
       "      <td>...</td>\n",
       "      <td>...</td>\n",
       "      <td>...</td>\n",
       "      <td>...</td>\n",
       "      <td>...</td>\n",
       "      <td>...</td>\n",
       "      <td>...</td>\n",
       "      <td>...</td>\n",
       "      <td>...</td>\n",
       "      <td>...</td>\n",
       "      <td>...</td>\n",
       "      <td>...</td>\n",
       "      <td>...</td>\n",
       "      <td>...</td>\n",
       "      <td>...</td>\n",
       "      <td>...</td>\n",
       "    </tr>\n",
       "    <tr>\n",
       "      <th>351</th>\n",
       "      <td>WZhRFyVEO8n_w9aOTiWt3Q</td>\n",
       "      <td>fresh-thyme-market-bloomington-3</td>\n",
       "      <td>Fresh Thyme Market</td>\n",
       "      <td>https://s3-media3.fl.yelpcdn.com/bphoto/YPWF0X...</td>\n",
       "      <td>False</td>\n",
       "      <td>https://www.yelp.com/biz/fresh-thyme-market-bl...</td>\n",
       "      <td>66</td>\n",
       "      <td>[{'alias': 'farmersmarket', 'title': 'Farmers ...</td>\n",
       "      <td>3.5</td>\n",
       "      <td>[]</td>\n",
       "      <td>$$</td>\n",
       "      <td>{\"address1\": \"2100 W 80 1/2 St\", \"address2\": N...</td>\n",
       "      <td>1.763321e+10</td>\n",
       "      <td>(763) 321-3555</td>\n",
       "      <td>12974.955825</td>\n",
       "      <td>44.858204</td>\n",
       "      <td>-93.306629</td>\n",
       "      <td>Error</td>\n",
       "    </tr>\n",
       "    <tr>\n",
       "      <th>353</th>\n",
       "      <td>r5th1PZgu3VMeGgKQhyyDQ</td>\n",
       "      <td>hy-vee-eagan</td>\n",
       "      <td>Hy-Vee</td>\n",
       "      <td>https://s3-media3.fl.yelpcdn.com/bphoto/996rfZ...</td>\n",
       "      <td>False</td>\n",
       "      <td>https://www.yelp.com/biz/hy-vee-eagan?adjust_c...</td>\n",
       "      <td>78</td>\n",
       "      <td>[{'alias': 'grocery', 'title': 'Grocery'}]</td>\n",
       "      <td>3.5</td>\n",
       "      <td>[]</td>\n",
       "      <td>$$</td>\n",
       "      <td>{\"address1\": \"1500 Central Park Village Dr\", \"...</td>\n",
       "      <td>1.651405e+10</td>\n",
       "      <td>(651) 405-3660</td>\n",
       "      <td>16705.028526</td>\n",
       "      <td>44.834436</td>\n",
       "      <td>-93.171476</td>\n",
       "      <td>Error</td>\n",
       "    </tr>\n",
       "    <tr>\n",
       "      <th>354</th>\n",
       "      <td>VR6PyZVTje8eRw8IYJtmVA</td>\n",
       "      <td>hy-vee-oakdale-3</td>\n",
       "      <td>Hy-Vee</td>\n",
       "      <td>https://s3-media1.fl.yelpcdn.com/bphoto/rxsQ_e...</td>\n",
       "      <td>False</td>\n",
       "      <td>https://www.yelp.com/biz/hy-vee-oakdale-3?adju...</td>\n",
       "      <td>6</td>\n",
       "      <td>[{'alias': 'servicestations', 'title': 'Gas St...</td>\n",
       "      <td>3.0</td>\n",
       "      <td>['delivery', 'pickup']</td>\n",
       "      <td>NaN</td>\n",
       "      <td>{\"address1\": \"7180 10th St N\", \"address2\": \"\",...</td>\n",
       "      <td>NaN</td>\n",
       "      <td>NaN</td>\n",
       "      <td>23691.000896</td>\n",
       "      <td>44.964436</td>\n",
       "      <td>-92.960653</td>\n",
       "      <td>Error</td>\n",
       "    </tr>\n",
       "    <tr>\n",
       "      <th>357</th>\n",
       "      <td>3I5O0GUO57uOCcLKqiaIJQ</td>\n",
       "      <td>ihop-maplewood-2</td>\n",
       "      <td>IHOP</td>\n",
       "      <td>https://s3-media4.fl.yelpcdn.com/bphoto/Tsa45R...</td>\n",
       "      <td>False</td>\n",
       "      <td>https://www.yelp.com/biz/ihop-maplewood-2?adju...</td>\n",
       "      <td>55</td>\n",
       "      <td>[{'alias': 'breakfast_brunch', 'title': 'Break...</td>\n",
       "      <td>2.0</td>\n",
       "      <td>['delivery', 'pickup']</td>\n",
       "      <td>$$</td>\n",
       "      <td>{\"address1\": \"1935 Beam Ave\", \"address2\": \"\", ...</td>\n",
       "      <td>1.651748e+10</td>\n",
       "      <td>(651) 748-1700</td>\n",
       "      <td>20083.387362</td>\n",
       "      <td>45.028360</td>\n",
       "      <td>-93.019630</td>\n",
       "      <td>Error</td>\n",
       "    </tr>\n",
       "    <tr>\n",
       "      <th>359</th>\n",
       "      <td>hmxrb4bK-ommQSDOrWvzwQ</td>\n",
       "      <td>cub-maple-grove-maple-grove</td>\n",
       "      <td>Cub - Maple Grove</td>\n",
       "      <td>https://s3-media1.fl.yelpcdn.com/bphoto/dicST8...</td>\n",
       "      <td>False</td>\n",
       "      <td>https://www.yelp.com/biz/cub-maple-grove-maple...</td>\n",
       "      <td>17</td>\n",
       "      <td>[{'alias': 'grocery', 'title': 'Grocery'}]</td>\n",
       "      <td>2.5</td>\n",
       "      <td>[]</td>\n",
       "      <td>$$</td>\n",
       "      <td>{\"address1\": \"8150 Wedgewood Ln N\", \"address2\"...</td>\n",
       "      <td>1.763495e+10</td>\n",
       "      <td>(763) 494-8364</td>\n",
       "      <td>20773.184977</td>\n",
       "      <td>45.102749</td>\n",
       "      <td>-93.448212</td>\n",
       "      <td>Error</td>\n",
       "    </tr>\n",
       "  </tbody>\n",
       "</table>\n",
       "<p>152 rows × 18 columns</p>\n",
       "</div>"
      ],
      "text/plain": [
       "                         id                                   alias  \\\n",
       "1    kcf7Bc1KKk-qoGJ2QIQVvw                 billy-sushi-minneapolis   \n",
       "2    RFLSUYCsAAJAneScJl51gA  kura-revolving-sushi-bar-bloomington-3   \n",
       "3    FR9ZFGmwrrxCrolxZDy6NQ                 sushi-train-minneapolis   \n",
       "5    VtsXtKbe4KWYif90LAzACA                         ama-sushi-edina   \n",
       "6    st6hKTpxG-0ltDs8gujkBQ           iwa-sushi-inver-grove-heights   \n",
       "..                      ...                                     ...   \n",
       "351  WZhRFyVEO8n_w9aOTiWt3Q        fresh-thyme-market-bloomington-3   \n",
       "353  r5th1PZgu3VMeGgKQhyyDQ                            hy-vee-eagan   \n",
       "354  VR6PyZVTje8eRw8IYJtmVA                        hy-vee-oakdale-3   \n",
       "357  3I5O0GUO57uOCcLKqiaIJQ                        ihop-maplewood-2   \n",
       "359  hmxrb4bK-ommQSDOrWvzwQ             cub-maple-grove-maple-grove   \n",
       "\n",
       "                         name  \\\n",
       "1                 Billy Sushi   \n",
       "2    Kura Revolving Sushi Bar   \n",
       "3                 Sushi Train   \n",
       "5                   AMA Sushi   \n",
       "6                   Iwa Sushi   \n",
       "..                        ...   \n",
       "351        Fresh Thyme Market   \n",
       "353                    Hy-Vee   \n",
       "354                    Hy-Vee   \n",
       "357                      IHOP   \n",
       "359         Cub - Maple Grove   \n",
       "\n",
       "                                             image_url  is_closed  \\\n",
       "1    https://s3-media3.fl.yelpcdn.com/bphoto/ynRfeG...      False   \n",
       "2    https://s3-media4.fl.yelpcdn.com/bphoto/cjVtPO...      False   \n",
       "3    https://s3-media3.fl.yelpcdn.com/bphoto/wlQO7g...      False   \n",
       "5    https://s3-media4.fl.yelpcdn.com/bphoto/2_f2xM...      False   \n",
       "6    https://s3-media3.fl.yelpcdn.com/bphoto/cJs-4k...      False   \n",
       "..                                                 ...        ...   \n",
       "351  https://s3-media3.fl.yelpcdn.com/bphoto/YPWF0X...      False   \n",
       "353  https://s3-media3.fl.yelpcdn.com/bphoto/996rfZ...      False   \n",
       "354  https://s3-media1.fl.yelpcdn.com/bphoto/rxsQ_e...      False   \n",
       "357  https://s3-media4.fl.yelpcdn.com/bphoto/Tsa45R...      False   \n",
       "359  https://s3-media1.fl.yelpcdn.com/bphoto/dicST8...      False   \n",
       "\n",
       "                                                   url  review_count  \\\n",
       "1    https://www.yelp.com/biz/billy-sushi-minneapol...           214   \n",
       "2    https://www.yelp.com/biz/kura-revolving-sushi-...            39   \n",
       "3    https://www.yelp.com/biz/sushi-train-minneapol...           345   \n",
       "5    https://www.yelp.com/biz/ama-sushi-edina?adjus...            62   \n",
       "6    https://www.yelp.com/biz/iwa-sushi-inver-grove...           146   \n",
       "..                                                 ...           ...   \n",
       "351  https://www.yelp.com/biz/fresh-thyme-market-bl...            66   \n",
       "353  https://www.yelp.com/biz/hy-vee-eagan?adjust_c...            78   \n",
       "354  https://www.yelp.com/biz/hy-vee-oakdale-3?adju...             6   \n",
       "357  https://www.yelp.com/biz/ihop-maplewood-2?adju...            55   \n",
       "359  https://www.yelp.com/biz/cub-maple-grove-maple...            17   \n",
       "\n",
       "                                            categories  rating  \\\n",
       "1    [{'alias': 'japanese', 'title': 'Japanese'}, {...     4.0   \n",
       "2    [{'alias': 'conveyorsushi', 'title': 'Conveyor...     4.0   \n",
       "3    [{'alias': 'sushi', 'title': 'Sushi Bars'}, {'...     3.5   \n",
       "5    [{'alias': 'sushi', 'title': 'Sushi Bars'}, {'...     4.5   \n",
       "6    [{'alias': 'sushi', 'title': 'Sushi Bars'}, {'...     4.5   \n",
       "..                                                 ...     ...   \n",
       "351  [{'alias': 'farmersmarket', 'title': 'Farmers ...     3.5   \n",
       "353         [{'alias': 'grocery', 'title': 'Grocery'}]     3.5   \n",
       "354  [{'alias': 'servicestations', 'title': 'Gas St...     3.0   \n",
       "357  [{'alias': 'breakfast_brunch', 'title': 'Break...     2.0   \n",
       "359         [{'alias': 'grocery', 'title': 'Grocery'}]     2.5   \n",
       "\n",
       "               transactions price  \\\n",
       "1              ['delivery']   $$$   \n",
       "2                        []   NaN   \n",
       "3    ['delivery', 'pickup']    $$   \n",
       "5                        []    $$   \n",
       "6    ['delivery', 'pickup']    $$   \n",
       "..                      ...   ...   \n",
       "351                      []    $$   \n",
       "353                      []    $$   \n",
       "354  ['delivery', 'pickup']   NaN   \n",
       "357  ['delivery', 'pickup']    $$   \n",
       "359                      []    $$   \n",
       "\n",
       "                                              location         phone  \\\n",
       "1    {\"address1\": \"116 N First Ave\", \"address2\": No...           NaN   \n",
       "2    {\"address1\": \"378 N Garden\", \"address2\": \"\", \"...           NaN   \n",
       "3    {\"address1\": \"1200 Nicollet Mall\", \"address2\":...  1.612260e+10   \n",
       "5    {\"address1\": \"5033 France Ave S\", \"address2\": ...  1.952920e+10   \n",
       "6    {\"address1\": \"7781 Amana Trl\", \"address2\": \"St...  1.651455e+10   \n",
       "..                                                 ...           ...   \n",
       "351  {\"address1\": \"2100 W 80 1/2 St\", \"address2\": N...  1.763321e+10   \n",
       "353  {\"address1\": \"1500 Central Park Village Dr\", \"...  1.651405e+10   \n",
       "354  {\"address1\": \"7180 10th St N\", \"address2\": \"\",...           NaN   \n",
       "357  {\"address1\": \"1935 Beam Ave\", \"address2\": \"\", ...  1.651748e+10   \n",
       "359  {\"address1\": \"8150 Wedgewood Ln N\", \"address2\"...  1.763495e+10   \n",
       "\n",
       "      display_phone      distance   latitude  longitude display_location  \n",
       "1               NaN   1627.114072  44.984156 -93.268783            Error  \n",
       "2               NaN  13388.384050  44.851056 -93.239506            Error  \n",
       "3    (612) 259-8488   1218.244125  44.971904 -93.276914            Error  \n",
       "5    (952) 920-1547   8419.254042  44.911630 -93.328650            Error  \n",
       "6    (651) 455-1473  20099.649357  44.836572 -93.089877            Error  \n",
       "..              ...           ...        ...        ...              ...  \n",
       "351  (763) 321-3555  12974.955825  44.858204 -93.306629            Error  \n",
       "353  (651) 405-3660  16705.028526  44.834436 -93.171476            Error  \n",
       "354             NaN  23691.000896  44.964436 -92.960653            Error  \n",
       "357  (651) 748-1700  20083.387362  45.028360 -93.019630            Error  \n",
       "359  (763) 494-8364  20773.184977  45.102749 -93.448212            Error  \n",
       "\n",
       "[152 rows x 18 columns]"
      ]
     },
     "execution_count": 22,
     "metadata": {},
     "output_type": "execute_result"
    }
   ],
   "source": [
    "## filter for businesses with display_location == \"ERROR\"\n",
    "errors = df[df['display_location']=='Error']\n",
    "errors"
   ]
  },
  {
   "cell_type": "code",
   "execution_count": 23,
   "id": "9c115199",
   "metadata": {},
   "outputs": [
    {
     "data": {
      "text/plain": [
       "'{\"address1\": \"8150 Wedgewood Ln N\", \"address2\": None, \"address3\": None, \"city\": \"Maple Grove\", \"zip_code\": \"55369\", \"country\": \"US\", \"state\": \"MN\", \"display_address\": [\"8150 Wedgewood Ln N\", \"Maple Grove, MN 55369\"]}'"
      ]
     },
     "execution_count": 23,
     "metadata": {},
     "output_type": "execute_result"
    }
   ],
   "source": [
    "## slice out a new test address and inspect\n",
    "test_addr = df.loc[359, 'location']\n",
    "test_addr"
   ]
  },
  {
   "cell_type": "markdown",
   "id": "448fa8c6",
   "metadata": {},
   "source": [
    "> After some more investigation, we would find a few issues with these \"ERROR\" rows.\n",
    "1. They contained None.\n",
    "2. They contained an apostrophe in the name.\n",
    "3. ...?"
   ]
  },
  {
   "cell_type": "markdown",
   "id": "68a960d4",
   "metadata": {},
   "source": [
    "### Possible Fixes (if we care to/have the time)\n"
   ]
  },
  {
   "cell_type": "markdown",
   "id": "7c21eda1",
   "metadata": {},
   "source": [
    "- Use Regular Expressions to find an fix the display addresses with \"'\" in them\n",
    "- Use string split to split on the word display address.\n",
    "    - Then use string methods to clean up"
   ]
  },
  {
   "cell_type": "markdown",
   "id": "df8d68fb",
   "metadata": {},
   "source": [
    "### Moving Forward without those rows (for now)"
   ]
  },
  {
   "cell_type": "code",
   "execution_count": 25,
   "id": "bddbcc87",
   "metadata": {},
   "outputs": [
    {
     "data": {
      "text/html": [
       "<div>\n",
       "<style scoped>\n",
       "    .dataframe tbody tr th:only-of-type {\n",
       "        vertical-align: middle;\n",
       "    }\n",
       "\n",
       "    .dataframe tbody tr th {\n",
       "        vertical-align: top;\n",
       "    }\n",
       "\n",
       "    .dataframe thead th {\n",
       "        text-align: right;\n",
       "    }\n",
       "</style>\n",
       "<table border=\"1\" class=\"dataframe\">\n",
       "  <thead>\n",
       "    <tr style=\"text-align: right;\">\n",
       "      <th></th>\n",
       "      <th>id</th>\n",
       "      <th>alias</th>\n",
       "      <th>name</th>\n",
       "      <th>image_url</th>\n",
       "      <th>is_closed</th>\n",
       "      <th>url</th>\n",
       "      <th>review_count</th>\n",
       "      <th>categories</th>\n",
       "      <th>rating</th>\n",
       "      <th>transactions</th>\n",
       "      <th>price</th>\n",
       "      <th>location</th>\n",
       "      <th>phone</th>\n",
       "      <th>display_phone</th>\n",
       "      <th>distance</th>\n",
       "      <th>latitude</th>\n",
       "      <th>longitude</th>\n",
       "      <th>display_location</th>\n",
       "    </tr>\n",
       "  </thead>\n",
       "  <tbody>\n",
       "    <tr>\n",
       "      <th>0</th>\n",
       "      <td>mTnoCM3BrLttWb7m9P5SQQ</td>\n",
       "      <td>wakame-sushi-and-asian-bistro-minneapolis</td>\n",
       "      <td>Wakame Sushi &amp; Asian Bistro</td>\n",
       "      <td>https://s3-media1.fl.yelpcdn.com/bphoto/_PG51j...</td>\n",
       "      <td>False</td>\n",
       "      <td>https://www.yelp.com/biz/wakame-sushi-and-asia...</td>\n",
       "      <td>819</td>\n",
       "      <td>[{'alias': 'sushi', 'title': 'Sushi Bars'}, {'...</td>\n",
       "      <td>4.0</td>\n",
       "      <td>[]</td>\n",
       "      <td>$$</td>\n",
       "      <td>{\"address1\": \"3070 Excelsior Blvd\", \"address2\"...</td>\n",
       "      <td>1.612886e+10</td>\n",
       "      <td>(612) 886-2484</td>\n",
       "      <td>5431.153227</td>\n",
       "      <td>44.946802</td>\n",
       "      <td>-93.321968</td>\n",
       "      <td>{'address1': '3070 Excelsior Blvd', 'address2'...</td>\n",
       "    </tr>\n",
       "    <tr>\n",
       "      <th>4</th>\n",
       "      <td>ddpjLv0P6iu7p1dRGCPWWw</td>\n",
       "      <td>sushi-takatsu-minneapolis</td>\n",
       "      <td>Sushi Takatsu</td>\n",
       "      <td>https://s3-media1.fl.yelpcdn.com/bphoto/WVD-r_...</td>\n",
       "      <td>False</td>\n",
       "      <td>https://www.yelp.com/biz/sushi-takatsu-minneap...</td>\n",
       "      <td>142</td>\n",
       "      <td>[{'alias': 'sushi', 'title': 'Sushi Bars'}, {'...</td>\n",
       "      <td>4.5</td>\n",
       "      <td>['delivery', 'pickup']</td>\n",
       "      <td>$</td>\n",
       "      <td>{\"address1\": \"733 Marquette Ave\", \"address2\": ...</td>\n",
       "      <td>1.612340e+10</td>\n",
       "      <td>(612) 339-5981</td>\n",
       "      <td>946.209834</td>\n",
       "      <td>44.976010</td>\n",
       "      <td>-93.270922</td>\n",
       "      <td>{'address1': '733 Marquette Ave', 'address2': ...</td>\n",
       "    </tr>\n",
       "    <tr>\n",
       "      <th>9</th>\n",
       "      <td>PJqifWn3xg_x0ItIDYfbZg</td>\n",
       "      <td>nakamori-japanese-bistro-edina</td>\n",
       "      <td>Nakamori Japanese Bistro</td>\n",
       "      <td>https://s3-media3.fl.yelpcdn.com/bphoto/ZWb4ZB...</td>\n",
       "      <td>False</td>\n",
       "      <td>https://www.yelp.com/biz/nakamori-japanese-bis...</td>\n",
       "      <td>264</td>\n",
       "      <td>[{'alias': 'sushi', 'title': 'Sushi Bars'}, {'...</td>\n",
       "      <td>4.0</td>\n",
       "      <td>['delivery', 'pickup']</td>\n",
       "      <td>$$</td>\n",
       "      <td>{\"address1\": \"7101 France Ave S\", \"address2\": ...</td>\n",
       "      <td>1.952921e+10</td>\n",
       "      <td>(952) 920-9980</td>\n",
       "      <td>11865.991716</td>\n",
       "      <td>44.874506</td>\n",
       "      <td>-93.327567</td>\n",
       "      <td>{'address1': '7101 France Ave S', 'address2': ...</td>\n",
       "    </tr>\n",
       "    <tr>\n",
       "      <th>11</th>\n",
       "      <td>51SWfc0I300IpUZcv7kCfA</td>\n",
       "      <td>zen-box-izakaya-minneapolis</td>\n",
       "      <td>Zen Box Izakaya</td>\n",
       "      <td>https://s3-media2.fl.yelpcdn.com/bphoto/sCMGcA...</td>\n",
       "      <td>False</td>\n",
       "      <td>https://www.yelp.com/biz/zen-box-izakaya-minne...</td>\n",
       "      <td>691</td>\n",
       "      <td>[{'alias': 'ramen', 'title': 'Ramen'}, {'alias...</td>\n",
       "      <td>4.0</td>\n",
       "      <td>['delivery', 'pickup']</td>\n",
       "      <td>$$</td>\n",
       "      <td>{\"address1\": \"602 Washington Ave S\", \"address2...</td>\n",
       "      <td>1.612332e+10</td>\n",
       "      <td>(612) 332-3936</td>\n",
       "      <td>901.681643</td>\n",
       "      <td>44.978433</td>\n",
       "      <td>-93.259617</td>\n",
       "      <td>{'address1': '602 Washington Ave S', 'address2...</td>\n",
       "    </tr>\n",
       "    <tr>\n",
       "      <th>20</th>\n",
       "      <td>fGWdvXWxN9hlvebIjU10pQ</td>\n",
       "      <td>soberfish-minneapolis-4</td>\n",
       "      <td>Soberfish</td>\n",
       "      <td>https://s3-media1.fl.yelpcdn.com/bphoto/zXWplx...</td>\n",
       "      <td>False</td>\n",
       "      <td>https://www.yelp.com/biz/soberfish-minneapolis...</td>\n",
       "      <td>215</td>\n",
       "      <td>[{'alias': 'sushi', 'title': 'Sushi Bars'}, {'...</td>\n",
       "      <td>3.5</td>\n",
       "      <td>['pickup', 'delivery']</td>\n",
       "      <td>$$</td>\n",
       "      <td>{\"address1\": \"2627 E Franklin Ave\", \"address2\"...</td>\n",
       "      <td>1.612354e+10</td>\n",
       "      <td>(612) 354-2544</td>\n",
       "      <td>2409.177270</td>\n",
       "      <td>44.962856</td>\n",
       "      <td>-93.232882</td>\n",
       "      <td>{'address1': '2627 E Franklin Ave', 'address2'...</td>\n",
       "    </tr>\n",
       "  </tbody>\n",
       "</table>\n",
       "</div>"
      ],
      "text/plain": [
       "                        id                                      alias  \\\n",
       "0   mTnoCM3BrLttWb7m9P5SQQ  wakame-sushi-and-asian-bistro-minneapolis   \n",
       "4   ddpjLv0P6iu7p1dRGCPWWw                  sushi-takatsu-minneapolis   \n",
       "9   PJqifWn3xg_x0ItIDYfbZg             nakamori-japanese-bistro-edina   \n",
       "11  51SWfc0I300IpUZcv7kCfA                zen-box-izakaya-minneapolis   \n",
       "20  fGWdvXWxN9hlvebIjU10pQ                    soberfish-minneapolis-4   \n",
       "\n",
       "                           name  \\\n",
       "0   Wakame Sushi & Asian Bistro   \n",
       "4                 Sushi Takatsu   \n",
       "9      Nakamori Japanese Bistro   \n",
       "11              Zen Box Izakaya   \n",
       "20                    Soberfish   \n",
       "\n",
       "                                            image_url  is_closed  \\\n",
       "0   https://s3-media1.fl.yelpcdn.com/bphoto/_PG51j...      False   \n",
       "4   https://s3-media1.fl.yelpcdn.com/bphoto/WVD-r_...      False   \n",
       "9   https://s3-media3.fl.yelpcdn.com/bphoto/ZWb4ZB...      False   \n",
       "11  https://s3-media2.fl.yelpcdn.com/bphoto/sCMGcA...      False   \n",
       "20  https://s3-media1.fl.yelpcdn.com/bphoto/zXWplx...      False   \n",
       "\n",
       "                                                  url  review_count  \\\n",
       "0   https://www.yelp.com/biz/wakame-sushi-and-asia...           819   \n",
       "4   https://www.yelp.com/biz/sushi-takatsu-minneap...           142   \n",
       "9   https://www.yelp.com/biz/nakamori-japanese-bis...           264   \n",
       "11  https://www.yelp.com/biz/zen-box-izakaya-minne...           691   \n",
       "20  https://www.yelp.com/biz/soberfish-minneapolis...           215   \n",
       "\n",
       "                                           categories  rating  \\\n",
       "0   [{'alias': 'sushi', 'title': 'Sushi Bars'}, {'...     4.0   \n",
       "4   [{'alias': 'sushi', 'title': 'Sushi Bars'}, {'...     4.5   \n",
       "9   [{'alias': 'sushi', 'title': 'Sushi Bars'}, {'...     4.0   \n",
       "11  [{'alias': 'ramen', 'title': 'Ramen'}, {'alias...     4.0   \n",
       "20  [{'alias': 'sushi', 'title': 'Sushi Bars'}, {'...     3.5   \n",
       "\n",
       "              transactions price  \\\n",
       "0                       []    $$   \n",
       "4   ['delivery', 'pickup']     $   \n",
       "9   ['delivery', 'pickup']    $$   \n",
       "11  ['delivery', 'pickup']    $$   \n",
       "20  ['pickup', 'delivery']    $$   \n",
       "\n",
       "                                             location         phone  \\\n",
       "0   {\"address1\": \"3070 Excelsior Blvd\", \"address2\"...  1.612886e+10   \n",
       "4   {\"address1\": \"733 Marquette Ave\", \"address2\": ...  1.612340e+10   \n",
       "9   {\"address1\": \"7101 France Ave S\", \"address2\": ...  1.952921e+10   \n",
       "11  {\"address1\": \"602 Washington Ave S\", \"address2...  1.612332e+10   \n",
       "20  {\"address1\": \"2627 E Franklin Ave\", \"address2\"...  1.612354e+10   \n",
       "\n",
       "     display_phone      distance   latitude  longitude  \\\n",
       "0   (612) 886-2484   5431.153227  44.946802 -93.321968   \n",
       "4   (612) 339-5981    946.209834  44.976010 -93.270922   \n",
       "9   (952) 920-9980  11865.991716  44.874506 -93.327567   \n",
       "11  (612) 332-3936    901.681643  44.978433 -93.259617   \n",
       "20  (612) 354-2544   2409.177270  44.962856 -93.232882   \n",
       "\n",
       "                                     display_location  \n",
       "0   {'address1': '3070 Excelsior Blvd', 'address2'...  \n",
       "4   {'address1': '733 Marquette Ave', 'address2': ...  \n",
       "9   {'address1': '7101 France Ave S', 'address2': ...  \n",
       "11  {'address1': '602 Washington Ave S', 'address2...  \n",
       "20  {'address1': '2627 E Franklin Ave', 'address2'...  "
      ]
     },
     "execution_count": 25,
     "metadata": {},
     "output_type": "execute_result"
    }
   ],
   "source": [
    "## remove any rows where display_location == 'ERROR'\n",
    "error_filter = df['display_location']=='Error'\n",
    "df1 = df.loc[~error_filter, :]\n",
    "df1.head()"
   ]
  },
  {
   "cell_type": "markdown",
   "id": "c1338cd2",
   "metadata": {},
   "source": [
    "- We want the \"display_address\" key from the \"display_location\" dictionaries.\n",
    "- We could use a .apply and a lamda to slice out the desired key."
   ]
  },
  {
   "cell_type": "code",
   "execution_count": null,
   "id": "82544b10",
   "metadata": {},
   "outputs": [],
   "source": [
    "## use apply and lambda to slice correct key\n"
   ]
  },
  {
   "cell_type": "markdown",
   "id": "c65a79ab",
   "metadata": {},
   "source": [
    "- Almost done! We want to convert display_address to a string instead a list of strings.\n",
    "- We can use the string method .join to do so!"
   ]
  },
  {
   "cell_type": "code",
   "execution_count": 26,
   "id": "5f64f1dd",
   "metadata": {},
   "outputs": [
    {
     "ename": "KeyError",
     "evalue": "2",
     "output_type": "error",
     "traceback": [
      "\u001b[0;31m---------------------------------------------------------------------------\u001b[0m",
      "\u001b[0;31mKeyError\u001b[0m                                  Traceback (most recent call last)",
      "File \u001b[0;32m~/opt/anaconda3/envs/dojo-env/lib/python3.9/site-packages/pandas/core/indexes/base.py:3803\u001b[0m, in \u001b[0;36mIndex.get_loc\u001b[0;34m(self, key, method, tolerance)\u001b[0m\n\u001b[1;32m   3802\u001b[0m \u001b[38;5;28;01mtry\u001b[39;00m:\n\u001b[0;32m-> 3803\u001b[0m     \u001b[38;5;28;01mreturn\u001b[39;00m \u001b[38;5;28;43mself\u001b[39;49m\u001b[38;5;241;43m.\u001b[39;49m\u001b[43m_engine\u001b[49m\u001b[38;5;241;43m.\u001b[39;49m\u001b[43mget_loc\u001b[49m\u001b[43m(\u001b[49m\u001b[43mcasted_key\u001b[49m\u001b[43m)\u001b[49m\n\u001b[1;32m   3804\u001b[0m \u001b[38;5;28;01mexcept\u001b[39;00m \u001b[38;5;167;01mKeyError\u001b[39;00m \u001b[38;5;28;01mas\u001b[39;00m err:\n",
      "File \u001b[0;32m~/opt/anaconda3/envs/dojo-env/lib/python3.9/site-packages/pandas/_libs/index.pyx:138\u001b[0m, in \u001b[0;36mpandas._libs.index.IndexEngine.get_loc\u001b[0;34m()\u001b[0m\n",
      "File \u001b[0;32m~/opt/anaconda3/envs/dojo-env/lib/python3.9/site-packages/pandas/_libs/index.pyx:165\u001b[0m, in \u001b[0;36mpandas._libs.index.IndexEngine.get_loc\u001b[0;34m()\u001b[0m\n",
      "File \u001b[0;32mpandas/_libs/hashtable_class_helper.pxi:2263\u001b[0m, in \u001b[0;36mpandas._libs.hashtable.Int64HashTable.get_item\u001b[0;34m()\u001b[0m\n",
      "File \u001b[0;32mpandas/_libs/hashtable_class_helper.pxi:2273\u001b[0m, in \u001b[0;36mpandas._libs.hashtable.Int64HashTable.get_item\u001b[0;34m()\u001b[0m\n",
      "\u001b[0;31mKeyError\u001b[0m: 2",
      "\nThe above exception was the direct cause of the following exception:\n",
      "\u001b[0;31mKeyError\u001b[0m                                  Traceback (most recent call last)",
      "Cell \u001b[0;32mIn [26], line 2\u001b[0m\n\u001b[1;32m      1\u001b[0m \u001b[38;5;66;03m## slice out a test_address\u001b[39;00m\n\u001b[0;32m----> 2\u001b[0m test_addr \u001b[38;5;241m=\u001b[39m \u001b[43mdf1\u001b[49m\u001b[38;5;241;43m.\u001b[39;49m\u001b[43mloc\u001b[49m\u001b[43m[\u001b[49m\u001b[38;5;241;43m2\u001b[39;49m\u001b[43m,\u001b[49m\u001b[43m \u001b[49m\u001b[38;5;124;43m'\u001b[39;49m\u001b[38;5;124;43mdisplay_location\u001b[39;49m\u001b[38;5;124;43m'\u001b[39;49m\u001b[43m]\u001b[49m[\u001b[38;5;124m'\u001b[39m\u001b[38;5;124mdisplay_address\u001b[39m\u001b[38;5;124m'\u001b[39m]\n\u001b[1;32m      3\u001b[0m test_addr\n",
      "File \u001b[0;32m~/opt/anaconda3/envs/dojo-env/lib/python3.9/site-packages/pandas/core/indexing.py:1066\u001b[0m, in \u001b[0;36m_LocationIndexer.__getitem__\u001b[0;34m(self, key)\u001b[0m\n\u001b[1;32m   1064\u001b[0m     key \u001b[38;5;241m=\u001b[39m \u001b[38;5;28mtuple\u001b[39m(com\u001b[38;5;241m.\u001b[39mapply_if_callable(x, \u001b[38;5;28mself\u001b[39m\u001b[38;5;241m.\u001b[39mobj) \u001b[38;5;28;01mfor\u001b[39;00m x \u001b[38;5;129;01min\u001b[39;00m key)\n\u001b[1;32m   1065\u001b[0m     \u001b[38;5;28;01mif\u001b[39;00m \u001b[38;5;28mself\u001b[39m\u001b[38;5;241m.\u001b[39m_is_scalar_access(key):\n\u001b[0;32m-> 1066\u001b[0m         \u001b[38;5;28;01mreturn\u001b[39;00m \u001b[38;5;28;43mself\u001b[39;49m\u001b[38;5;241;43m.\u001b[39;49m\u001b[43mobj\u001b[49m\u001b[38;5;241;43m.\u001b[39;49m\u001b[43m_get_value\u001b[49m\u001b[43m(\u001b[49m\u001b[38;5;241;43m*\u001b[39;49m\u001b[43mkey\u001b[49m\u001b[43m,\u001b[49m\u001b[43m \u001b[49m\u001b[43mtakeable\u001b[49m\u001b[38;5;241;43m=\u001b[39;49m\u001b[38;5;28;43mself\u001b[39;49m\u001b[38;5;241;43m.\u001b[39;49m\u001b[43m_takeable\u001b[49m\u001b[43m)\u001b[49m\n\u001b[1;32m   1067\u001b[0m     \u001b[38;5;28;01mreturn\u001b[39;00m \u001b[38;5;28mself\u001b[39m\u001b[38;5;241m.\u001b[39m_getitem_tuple(key)\n\u001b[1;32m   1068\u001b[0m \u001b[38;5;28;01melse\u001b[39;00m:\n\u001b[1;32m   1069\u001b[0m     \u001b[38;5;66;03m# we by definition only have the 0th axis\u001b[39;00m\n",
      "File \u001b[0;32m~/opt/anaconda3/envs/dojo-env/lib/python3.9/site-packages/pandas/core/frame.py:3922\u001b[0m, in \u001b[0;36mDataFrame._get_value\u001b[0;34m(self, index, col, takeable)\u001b[0m\n\u001b[1;32m   3916\u001b[0m engine \u001b[38;5;241m=\u001b[39m \u001b[38;5;28mself\u001b[39m\u001b[38;5;241m.\u001b[39mindex\u001b[38;5;241m.\u001b[39m_engine\n\u001b[1;32m   3918\u001b[0m \u001b[38;5;28;01mif\u001b[39;00m \u001b[38;5;129;01mnot\u001b[39;00m \u001b[38;5;28misinstance\u001b[39m(\u001b[38;5;28mself\u001b[39m\u001b[38;5;241m.\u001b[39mindex, MultiIndex):\n\u001b[1;32m   3919\u001b[0m     \u001b[38;5;66;03m# CategoricalIndex: Trying to use the engine fastpath may give incorrect\u001b[39;00m\n\u001b[1;32m   3920\u001b[0m     \u001b[38;5;66;03m#  results if our categories are integers that dont match our codes\u001b[39;00m\n\u001b[1;32m   3921\u001b[0m     \u001b[38;5;66;03m# IntervalIndex: IntervalTree has no get_loc\u001b[39;00m\n\u001b[0;32m-> 3922\u001b[0m     row \u001b[38;5;241m=\u001b[39m \u001b[38;5;28;43mself\u001b[39;49m\u001b[38;5;241;43m.\u001b[39;49m\u001b[43mindex\u001b[49m\u001b[38;5;241;43m.\u001b[39;49m\u001b[43mget_loc\u001b[49m\u001b[43m(\u001b[49m\u001b[43mindex\u001b[49m\u001b[43m)\u001b[49m\n\u001b[1;32m   3923\u001b[0m     \u001b[38;5;28;01mreturn\u001b[39;00m series\u001b[38;5;241m.\u001b[39m_values[row]\n\u001b[1;32m   3925\u001b[0m \u001b[38;5;66;03m# For MultiIndex going through engine effectively restricts us to\u001b[39;00m\n\u001b[1;32m   3926\u001b[0m \u001b[38;5;66;03m#  same-length tuples; see test_get_set_value_no_partial_indexing\u001b[39;00m\n",
      "File \u001b[0;32m~/opt/anaconda3/envs/dojo-env/lib/python3.9/site-packages/pandas/core/indexes/base.py:3805\u001b[0m, in \u001b[0;36mIndex.get_loc\u001b[0;34m(self, key, method, tolerance)\u001b[0m\n\u001b[1;32m   3803\u001b[0m     \u001b[38;5;28;01mreturn\u001b[39;00m \u001b[38;5;28mself\u001b[39m\u001b[38;5;241m.\u001b[39m_engine\u001b[38;5;241m.\u001b[39mget_loc(casted_key)\n\u001b[1;32m   3804\u001b[0m \u001b[38;5;28;01mexcept\u001b[39;00m \u001b[38;5;167;01mKeyError\u001b[39;00m \u001b[38;5;28;01mas\u001b[39;00m err:\n\u001b[0;32m-> 3805\u001b[0m     \u001b[38;5;28;01mraise\u001b[39;00m \u001b[38;5;167;01mKeyError\u001b[39;00m(key) \u001b[38;5;28;01mfrom\u001b[39;00m \u001b[38;5;21;01merr\u001b[39;00m\n\u001b[1;32m   3806\u001b[0m \u001b[38;5;28;01mexcept\u001b[39;00m \u001b[38;5;167;01mTypeError\u001b[39;00m:\n\u001b[1;32m   3807\u001b[0m     \u001b[38;5;66;03m# If we have a listlike key, _check_indexing_error will raise\u001b[39;00m\n\u001b[1;32m   3808\u001b[0m     \u001b[38;5;66;03m#  InvalidIndexError. Otherwise we fall through and re-raise\u001b[39;00m\n\u001b[1;32m   3809\u001b[0m     \u001b[38;5;66;03m#  the TypeError.\u001b[39;00m\n\u001b[1;32m   3810\u001b[0m     \u001b[38;5;28mself\u001b[39m\u001b[38;5;241m.\u001b[39m_check_indexing_error(key)\n",
      "\u001b[0;31mKeyError\u001b[0m: 2"
     ]
    }
   ],
   "source": [
    "## slice out a test_address\n",
    "test_addr = df1.loc[2, 'display_location']['display_address']\n",
    "test_addr"
   ]
  },
  {
   "cell_type": "code",
   "execution_count": 16,
   "id": "af77d5a1",
   "metadata": {},
   "outputs": [
    {
     "data": {
      "text/plain": [
       "'{\"address1\": \"3070 Excelsior Blvd\", \"address2\": \"\", \"address3\": \"\", \"city\": \"Minneapolis\", \"zip_code\": \"55416\", \"country\": \"US\", \"state\": \"MN\", \"display_address\": [\"3070 Excelsior Blvd\", \"Minneapolis, MN 55416\"]}'"
      ]
     },
     "execution_count": 16,
     "metadata": {},
     "output_type": "execute_result"
    }
   ],
   "source": [
    "## replace ' with \"\n",
    "df['display_address'] = df['display_location'].apply(lambda x: x['display_address'])\n"
   ]
  },
  {
   "cell_type": "code",
   "execution_count": 17,
   "id": "876bb98e",
   "metadata": {
    "scrolled": true
   },
   "outputs": [
    {
     "ename": "JSONDecodeError",
     "evalue": "Expecting value: line 1 column 45 (char 44)",
     "output_type": "error",
     "traceback": [
      "\u001b[0;31m---------------------------------------------------------------------------\u001b[0m",
      "\u001b[0;31mJSONDecodeError\u001b[0m                           Traceback (most recent call last)",
      "Cell \u001b[0;32mIn [17], line 2\u001b[0m\n\u001b[1;32m      1\u001b[0m \u001b[38;5;66;03m## test using .join with a \"\\n\"\u001b[39;00m\n\u001b[0;32m----> 2\u001b[0m \u001b[43mdf\u001b[49m\u001b[43m[\u001b[49m\u001b[38;5;124;43m'\u001b[39;49m\u001b[38;5;124;43mlocation\u001b[39;49m\u001b[38;5;124;43m'\u001b[39;49m\u001b[43m]\u001b[49m\u001b[38;5;241;43m.\u001b[39;49m\u001b[43mapply\u001b[49m\u001b[43m(\u001b[49m\u001b[43mjson\u001b[49m\u001b[38;5;241;43m.\u001b[39;49m\u001b[43mloads\u001b[49m\u001b[43m)\u001b[49m\n\u001b[1;32m      3\u001b[0m df[\u001b[38;5;124m'\u001b[39m\u001b[38;5;124mlocation\u001b[39m\u001b[38;5;124m'\u001b[39m]\n",
      "File \u001b[0;32m~/opt/anaconda3/envs/dojo-env/lib/python3.9/site-packages/pandas/core/series.py:4771\u001b[0m, in \u001b[0;36mSeries.apply\u001b[0;34m(self, func, convert_dtype, args, **kwargs)\u001b[0m\n\u001b[1;32m   4661\u001b[0m \u001b[38;5;28;01mdef\u001b[39;00m \u001b[38;5;21mapply\u001b[39m(\n\u001b[1;32m   4662\u001b[0m     \u001b[38;5;28mself\u001b[39m,\n\u001b[1;32m   4663\u001b[0m     func: AggFuncType,\n\u001b[0;32m   (...)\u001b[0m\n\u001b[1;32m   4666\u001b[0m     \u001b[38;5;241m*\u001b[39m\u001b[38;5;241m*\u001b[39mkwargs,\n\u001b[1;32m   4667\u001b[0m ) \u001b[38;5;241m-\u001b[39m\u001b[38;5;241m>\u001b[39m DataFrame \u001b[38;5;241m|\u001b[39m Series:\n\u001b[1;32m   4668\u001b[0m     \u001b[38;5;124;03m\"\"\"\u001b[39;00m\n\u001b[1;32m   4669\u001b[0m \u001b[38;5;124;03m    Invoke function on values of Series.\u001b[39;00m\n\u001b[1;32m   4670\u001b[0m \n\u001b[0;32m   (...)\u001b[0m\n\u001b[1;32m   4769\u001b[0m \u001b[38;5;124;03m    dtype: float64\u001b[39;00m\n\u001b[1;32m   4770\u001b[0m \u001b[38;5;124;03m    \"\"\"\u001b[39;00m\n\u001b[0;32m-> 4771\u001b[0m     \u001b[38;5;28;01mreturn\u001b[39;00m \u001b[43mSeriesApply\u001b[49m\u001b[43m(\u001b[49m\u001b[38;5;28;43mself\u001b[39;49m\u001b[43m,\u001b[49m\u001b[43m \u001b[49m\u001b[43mfunc\u001b[49m\u001b[43m,\u001b[49m\u001b[43m \u001b[49m\u001b[43mconvert_dtype\u001b[49m\u001b[43m,\u001b[49m\u001b[43m \u001b[49m\u001b[43margs\u001b[49m\u001b[43m,\u001b[49m\u001b[43m \u001b[49m\u001b[43mkwargs\u001b[49m\u001b[43m)\u001b[49m\u001b[38;5;241;43m.\u001b[39;49m\u001b[43mapply\u001b[49m\u001b[43m(\u001b[49m\u001b[43m)\u001b[49m\n",
      "File \u001b[0;32m~/opt/anaconda3/envs/dojo-env/lib/python3.9/site-packages/pandas/core/apply.py:1105\u001b[0m, in \u001b[0;36mSeriesApply.apply\u001b[0;34m(self)\u001b[0m\n\u001b[1;32m   1102\u001b[0m     \u001b[38;5;28;01mreturn\u001b[39;00m \u001b[38;5;28mself\u001b[39m\u001b[38;5;241m.\u001b[39mapply_str()\n\u001b[1;32m   1104\u001b[0m \u001b[38;5;66;03m# self.f is Callable\u001b[39;00m\n\u001b[0;32m-> 1105\u001b[0m \u001b[38;5;28;01mreturn\u001b[39;00m \u001b[38;5;28;43mself\u001b[39;49m\u001b[38;5;241;43m.\u001b[39;49m\u001b[43mapply_standard\u001b[49m\u001b[43m(\u001b[49m\u001b[43m)\u001b[49m\n",
      "File \u001b[0;32m~/opt/anaconda3/envs/dojo-env/lib/python3.9/site-packages/pandas/core/apply.py:1156\u001b[0m, in \u001b[0;36mSeriesApply.apply_standard\u001b[0;34m(self)\u001b[0m\n\u001b[1;32m   1154\u001b[0m     \u001b[38;5;28;01melse\u001b[39;00m:\n\u001b[1;32m   1155\u001b[0m         values \u001b[38;5;241m=\u001b[39m obj\u001b[38;5;241m.\u001b[39mastype(\u001b[38;5;28mobject\u001b[39m)\u001b[38;5;241m.\u001b[39m_values\n\u001b[0;32m-> 1156\u001b[0m         mapped \u001b[38;5;241m=\u001b[39m \u001b[43mlib\u001b[49m\u001b[38;5;241;43m.\u001b[39;49m\u001b[43mmap_infer\u001b[49m\u001b[43m(\u001b[49m\n\u001b[1;32m   1157\u001b[0m \u001b[43m            \u001b[49m\u001b[43mvalues\u001b[49m\u001b[43m,\u001b[49m\n\u001b[1;32m   1158\u001b[0m \u001b[43m            \u001b[49m\u001b[43mf\u001b[49m\u001b[43m,\u001b[49m\n\u001b[1;32m   1159\u001b[0m \u001b[43m            \u001b[49m\u001b[43mconvert\u001b[49m\u001b[38;5;241;43m=\u001b[39;49m\u001b[38;5;28;43mself\u001b[39;49m\u001b[38;5;241;43m.\u001b[39;49m\u001b[43mconvert_dtype\u001b[49m\u001b[43m,\u001b[49m\n\u001b[1;32m   1160\u001b[0m \u001b[43m        \u001b[49m\u001b[43m)\u001b[49m\n\u001b[1;32m   1162\u001b[0m \u001b[38;5;28;01mif\u001b[39;00m \u001b[38;5;28mlen\u001b[39m(mapped) \u001b[38;5;129;01mand\u001b[39;00m \u001b[38;5;28misinstance\u001b[39m(mapped[\u001b[38;5;241m0\u001b[39m], ABCSeries):\n\u001b[1;32m   1163\u001b[0m     \u001b[38;5;66;03m# GH#43986 Need to do list(mapped) in order to get treated as nested\u001b[39;00m\n\u001b[1;32m   1164\u001b[0m     \u001b[38;5;66;03m#  See also GH#25959 regarding EA support\u001b[39;00m\n\u001b[1;32m   1165\u001b[0m     \u001b[38;5;28;01mreturn\u001b[39;00m obj\u001b[38;5;241m.\u001b[39m_constructor_expanddim(\u001b[38;5;28mlist\u001b[39m(mapped), index\u001b[38;5;241m=\u001b[39mobj\u001b[38;5;241m.\u001b[39mindex)\n",
      "File \u001b[0;32m~/opt/anaconda3/envs/dojo-env/lib/python3.9/site-packages/pandas/_libs/lib.pyx:2918\u001b[0m, in \u001b[0;36mpandas._libs.lib.map_infer\u001b[0;34m()\u001b[0m\n",
      "File \u001b[0;32m~/opt/anaconda3/envs/dojo-env/lib/python3.9/json/__init__.py:346\u001b[0m, in \u001b[0;36mloads\u001b[0;34m(s, cls, object_hook, parse_float, parse_int, parse_constant, object_pairs_hook, **kw)\u001b[0m\n\u001b[1;32m    341\u001b[0m     s \u001b[38;5;241m=\u001b[39m s\u001b[38;5;241m.\u001b[39mdecode(detect_encoding(s), \u001b[38;5;124m'\u001b[39m\u001b[38;5;124msurrogatepass\u001b[39m\u001b[38;5;124m'\u001b[39m)\n\u001b[1;32m    343\u001b[0m \u001b[38;5;28;01mif\u001b[39;00m (\u001b[38;5;28mcls\u001b[39m \u001b[38;5;129;01mis\u001b[39;00m \u001b[38;5;28;01mNone\u001b[39;00m \u001b[38;5;129;01mand\u001b[39;00m object_hook \u001b[38;5;129;01mis\u001b[39;00m \u001b[38;5;28;01mNone\u001b[39;00m \u001b[38;5;129;01mand\u001b[39;00m\n\u001b[1;32m    344\u001b[0m         parse_int \u001b[38;5;129;01mis\u001b[39;00m \u001b[38;5;28;01mNone\u001b[39;00m \u001b[38;5;129;01mand\u001b[39;00m parse_float \u001b[38;5;129;01mis\u001b[39;00m \u001b[38;5;28;01mNone\u001b[39;00m \u001b[38;5;129;01mand\u001b[39;00m\n\u001b[1;32m    345\u001b[0m         parse_constant \u001b[38;5;129;01mis\u001b[39;00m \u001b[38;5;28;01mNone\u001b[39;00m \u001b[38;5;129;01mand\u001b[39;00m object_pairs_hook \u001b[38;5;129;01mis\u001b[39;00m \u001b[38;5;28;01mNone\u001b[39;00m \u001b[38;5;129;01mand\u001b[39;00m \u001b[38;5;129;01mnot\u001b[39;00m kw):\n\u001b[0;32m--> 346\u001b[0m     \u001b[38;5;28;01mreturn\u001b[39;00m \u001b[43m_default_decoder\u001b[49m\u001b[38;5;241;43m.\u001b[39;49m\u001b[43mdecode\u001b[49m\u001b[43m(\u001b[49m\u001b[43ms\u001b[49m\u001b[43m)\u001b[49m\n\u001b[1;32m    347\u001b[0m \u001b[38;5;28;01mif\u001b[39;00m \u001b[38;5;28mcls\u001b[39m \u001b[38;5;129;01mis\u001b[39;00m \u001b[38;5;28;01mNone\u001b[39;00m:\n\u001b[1;32m    348\u001b[0m     \u001b[38;5;28mcls\u001b[39m \u001b[38;5;241m=\u001b[39m JSONDecoder\n",
      "File \u001b[0;32m~/opt/anaconda3/envs/dojo-env/lib/python3.9/json/decoder.py:337\u001b[0m, in \u001b[0;36mJSONDecoder.decode\u001b[0;34m(self, s, _w)\u001b[0m\n\u001b[1;32m    332\u001b[0m \u001b[38;5;28;01mdef\u001b[39;00m \u001b[38;5;21mdecode\u001b[39m(\u001b[38;5;28mself\u001b[39m, s, _w\u001b[38;5;241m=\u001b[39mWHITESPACE\u001b[38;5;241m.\u001b[39mmatch):\n\u001b[1;32m    333\u001b[0m     \u001b[38;5;124;03m\"\"\"Return the Python representation of ``s`` (a ``str`` instance\u001b[39;00m\n\u001b[1;32m    334\u001b[0m \u001b[38;5;124;03m    containing a JSON document).\u001b[39;00m\n\u001b[1;32m    335\u001b[0m \n\u001b[1;32m    336\u001b[0m \u001b[38;5;124;03m    \"\"\"\u001b[39;00m\n\u001b[0;32m--> 337\u001b[0m     obj, end \u001b[38;5;241m=\u001b[39m \u001b[38;5;28;43mself\u001b[39;49m\u001b[38;5;241;43m.\u001b[39;49m\u001b[43mraw_decode\u001b[49m\u001b[43m(\u001b[49m\u001b[43ms\u001b[49m\u001b[43m,\u001b[49m\u001b[43m \u001b[49m\u001b[43midx\u001b[49m\u001b[38;5;241;43m=\u001b[39;49m\u001b[43m_w\u001b[49m\u001b[43m(\u001b[49m\u001b[43ms\u001b[49m\u001b[43m,\u001b[49m\u001b[43m \u001b[49m\u001b[38;5;241;43m0\u001b[39;49m\u001b[43m)\u001b[49m\u001b[38;5;241;43m.\u001b[39;49m\u001b[43mend\u001b[49m\u001b[43m(\u001b[49m\u001b[43m)\u001b[49m\u001b[43m)\u001b[49m\n\u001b[1;32m    338\u001b[0m     end \u001b[38;5;241m=\u001b[39m _w(s, end)\u001b[38;5;241m.\u001b[39mend()\n\u001b[1;32m    339\u001b[0m     \u001b[38;5;28;01mif\u001b[39;00m end \u001b[38;5;241m!=\u001b[39m \u001b[38;5;28mlen\u001b[39m(s):\n",
      "File \u001b[0;32m~/opt/anaconda3/envs/dojo-env/lib/python3.9/json/decoder.py:355\u001b[0m, in \u001b[0;36mJSONDecoder.raw_decode\u001b[0;34m(self, s, idx)\u001b[0m\n\u001b[1;32m    353\u001b[0m     obj, end \u001b[38;5;241m=\u001b[39m \u001b[38;5;28mself\u001b[39m\u001b[38;5;241m.\u001b[39mscan_once(s, idx)\n\u001b[1;32m    354\u001b[0m \u001b[38;5;28;01mexcept\u001b[39;00m \u001b[38;5;167;01mStopIteration\u001b[39;00m \u001b[38;5;28;01mas\u001b[39;00m err:\n\u001b[0;32m--> 355\u001b[0m     \u001b[38;5;28;01mraise\u001b[39;00m JSONDecodeError(\u001b[38;5;124m\"\u001b[39m\u001b[38;5;124mExpecting value\u001b[39m\u001b[38;5;124m\"\u001b[39m, s, err\u001b[38;5;241m.\u001b[39mvalue) \u001b[38;5;28;01mfrom\u001b[39;00m \u001b[38;5;28mNone\u001b[39m\n\u001b[1;32m    356\u001b[0m \u001b[38;5;28;01mreturn\u001b[39;00m obj, end\n",
      "\u001b[0;31mJSONDecodeError\u001b[0m: Expecting value: line 1 column 45 (char 44)"
     ]
    }
   ],
   "source": [
    "## test using .join with a \"\\n\"\n",
    "df['location'].apply(json.loads)\n",
    "df['location']"
   ]
  },
  {
   "cell_type": "code",
   "execution_count": null,
   "id": "55a6176d",
   "metadata": {
    "scrolled": true
   },
   "outputs": [],
   "source": [
    "## apply the join to every row with a lambda\n"
   ]
  },
  {
   "cell_type": "markdown",
   "id": "09b90087",
   "metadata": {},
   "source": [
    "### Final Map"
   ]
  },
  {
   "cell_type": "code",
   "execution_count": null,
   "id": "0afd236d",
   "metadata": {},
   "outputs": [],
   "source": [
    "## make ourn final map and save as varaible\n"
   ]
  },
  {
   "cell_type": "markdown",
   "id": "47e93ee3",
   "metadata": {},
   "source": [
    "#### HTML Uses `<br>` instead of `\\n`"
   ]
  },
  {
   "cell_type": "code",
   "execution_count": null,
   "id": "d2758626",
   "metadata": {},
   "outputs": [],
   "source": [
    "## remake the final address column with <br> instead \n",
    "\n",
    "## plot the final map"
   ]
  },
  {
   "cell_type": "code",
   "execution_count": null,
   "id": "79e43699",
   "metadata": {},
   "outputs": [],
   "source": [
    "## use fig.write_html to save map\n"
   ]
  }
 ],
 "metadata": {
  "kernelspec": {
   "display_name": "Python (dojo-env)",
   "language": "python",
   "name": "dojo-env"
  },
  "language_info": {
   "codemirror_mode": {
    "name": "ipython",
    "version": 3
   },
   "file_extension": ".py",
   "mimetype": "text/x-python",
   "name": "python",
   "nbconvert_exporter": "python",
   "pygments_lexer": "ipython3",
   "version": "3.9.15"
  },
  "toc": {
   "base_numbering": 1,
   "nav_menu": {},
   "number_sections": false,
   "sideBar": true,
   "skip_h1_title": false,
   "title_cell": "Table of Contents",
   "title_sidebar": "Contents",
   "toc_cell": false,
   "toc_position": {
    "height": "calc(100% - 180px)",
    "left": "10px",
    "top": "150px",
    "width": "234.854px"
   },
   "toc_section_display": true,
   "toc_window_display": false
  }
 },
 "nbformat": 4,
 "nbformat_minor": 5
}
