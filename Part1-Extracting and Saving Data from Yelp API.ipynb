{
 "cells": [
  {
   "cell_type": "markdown",
   "metadata": {
    "id": "8guYh-VR7nlX"
   },
   "source": [
    "# Part 1 - Extracting and Saving Data from Yelp API"
   ]
  },
  {
   "cell_type": "markdown",
   "metadata": {},
   "source": [
    "## Obective"
   ]
  },
  {
   "cell_type": "markdown",
   "metadata": {
    "id": "8guYh-VR7nlX"
   },
   "source": [
    "- For this CodeAlong, we will be working with the Yelp API. \n",
    "- You will use the the Yelp API to search your home town for a cuisine type of your choice.\n",
    "- Next class, we will then use Plotly Express to create a map with the Mapbox API to visualize the results.\n",
    "    \n",
    "    "
   ]
  },
  {
   "cell_type": "markdown",
   "metadata": {
    "id": "8guYh-VR7nlX"
   },
   "source": [
    "## Tools You Will Use\n",
    "- Part 1:\n",
    "    - Yelp API:\n",
    "        - Getting Started: \n",
    "            - https://www.yelp.com/developers/documentation/v3/get_started\n",
    "\n",
    "    - `YelpAPI` python package\n",
    "        -  \"YelpAPI\": https://github.com/gfairchild/yelpapi\n",
    "- Part 2:\n",
    "\n",
    "    - Plotly Express: https://plotly.com/python/getting-started/\n",
    "        - With Mapbox API: https://www.mapbox.com/\n",
    "        - `px.scatter_mapbox` [Documentation](https://plotly.com/python/scattermapbox/): \n",
    "\n",
    "\n"
   ]
  },
  {
   "cell_type": "markdown",
   "metadata": {},
   "source": [
    "### Applying Code From\n",
    "- Efficient API Calls Lesson Link: https://login.codingdojo.com/m/376/12529/88078"
   ]
  },
  {
   "cell_type": "code",
   "execution_count": 1,
   "metadata": {},
   "outputs": [],
   "source": [
    "# Standard Imports\n",
    "import numpy as np\n",
    "import pandas as pd\n",
    "import matplotlib.pyplot as plt\n",
    "import seaborn as sns\n",
    "\n",
    "# Additional Imports\n",
    "import os, json, math, time\n",
    "from yelpapi import YelpAPI\n",
    "from tqdm.notebook import tqdm_notebook"
   ]
  },
  {
   "cell_type": "code",
   "execution_count": 2,
   "metadata": {
    "scrolled": true
   },
   "outputs": [
    {
     "name": "stdout",
     "output_type": "stream",
     "text": [
      "Requirement already satisfied: yelpapi in /Users/jacksonmuehlbauer/opt/anaconda3/envs/dojo-env/lib/python3.9/site-packages (2.5.0)\n",
      "Requirement already satisfied: requests in /Users/jacksonmuehlbauer/opt/anaconda3/envs/dojo-env/lib/python3.9/site-packages (from yelpapi) (2.28.1)\n",
      "Requirement already satisfied: charset-normalizer<3,>=2 in /Users/jacksonmuehlbauer/opt/anaconda3/envs/dojo-env/lib/python3.9/site-packages (from requests->yelpapi) (2.0.4)\n",
      "Requirement already satisfied: urllib3<1.27,>=1.21.1 in /Users/jacksonmuehlbauer/opt/anaconda3/envs/dojo-env/lib/python3.9/site-packages (from requests->yelpapi) (1.26.13)\n",
      "Requirement already satisfied: certifi>=2017.4.17 in /Users/jacksonmuehlbauer/opt/anaconda3/envs/dojo-env/lib/python3.9/site-packages (from requests->yelpapi) (2022.9.24)\n",
      "Requirement already satisfied: idna<4,>=2.5 in /Users/jacksonmuehlbauer/opt/anaconda3/envs/dojo-env/lib/python3.9/site-packages (from requests->yelpapi) (3.4)\n"
     ]
    }
   ],
   "source": [
    "#!pip install yelpapi"
   ]
  },
  {
   "cell_type": "markdown",
   "metadata": {
    "id": "1l3Z-79nBSX9"
   },
   "source": [
    "## 1. Registering for Required APIs"
   ]
  },
  {
   "cell_type": "markdown",
   "metadata": {
    "id": "1l3Z-79nBSX9"
   },
   "source": [
    "\n",
    "- Yelp: https://www.yelp.com/developers/documentation/v3/get_started\n"
   ]
  },
  {
   "cell_type": "markdown",
   "metadata": {},
   "source": [
    "> Check the official API documentation to know what arguments we can search for: https://www.yelp.com/developers/documentation/v3/business_search"
   ]
  },
  {
   "cell_type": "markdown",
   "metadata": {},
   "source": [
    "### Load Credentials and Create Yelp API Object"
   ]
  },
  {
   "cell_type": "code",
   "execution_count": 3,
   "metadata": {
    "ExecuteTime": {
     "end_time": "2022-03-25T18:20:46.629934Z",
     "start_time": "2022-03-25T18:20:45.915864Z"
    },
    "colab": {
     "base_uri": "https://localhost:8080/"
    },
    "id": "xJYqVvNkE36a",
    "outputId": "67798160-dea2-41fc-9040-2b3833efa560"
   },
   "outputs": [],
   "source": [
    "# Load API Credentials\n",
    "with open('/Users/jacksonmuehlbauer/.secret/yelp_api.json') as f:\n",
    "    login = json.load(f)"
   ]
  },
  {
   "cell_type": "code",
   "execution_count": 10,
   "metadata": {},
   "outputs": [
    {
     "data": {
      "text/plain": [
       "<yelpapi.yelpapi.YelpAPI at 0x145e2e580>"
      ]
     },
     "execution_count": 10,
     "metadata": {},
     "output_type": "execute_result"
    }
   ],
   "source": [
    "# Instantiate YelpAPI Variable\n",
    "yelp_api = YelpAPI(login['api-key'], timeout_s=5.0)\n",
    "yelp_api"
   ]
  },
  {
   "cell_type": "markdown",
   "metadata": {},
   "source": [
    "### Define Search Terms and File Paths"
   ]
  },
  {
   "cell_type": "code",
   "execution_count": 4,
   "metadata": {},
   "outputs": [],
   "source": [
    "# set our API call parameters and filename before the first call\n",
    "location = 'Minneapolis, MN'\n",
    "term = 'sushi'"
   ]
  },
  {
   "cell_type": "code",
   "execution_count": 6,
   "metadata": {},
   "outputs": [],
   "source": [
    "## Specify fodler for saving data\n",
    "FOLDER = 'Data/'\n",
    "\n",
    "os.makedirs(FOLDER, exist_ok=True)\n",
    "# Specifying JSON_FILE filename (can include a folder)\n",
    "JSON_FILE = FOLDER+f\"{location.split(',')[0]}-{term}.json\""
   ]
  },
  {
   "cell_type": "code",
   "execution_count": 7,
   "metadata": {},
   "outputs": [
    {
     "data": {
      "text/plain": [
       "'Data/Minneapolis-sushi.json'"
      ]
     },
     "execution_count": 7,
     "metadata": {},
     "output_type": "execute_result"
    }
   ],
   "source": [
    "JSON_FILE"
   ]
  },
  {
   "cell_type": "markdown",
   "metadata": {},
   "source": [
    "### Check if Json File exists and Create it if it doesn't"
   ]
  },
  {
   "cell_type": "code",
   "execution_count": 8,
   "metadata": {},
   "outputs": [],
   "source": [
    "## Check if JSON_FILE exists\n",
    "file_exists = os.path.isfile(JSON_FILE)\n",
    "## If it does not exist: \n",
    "if file_exists == False:   \n",
    "    ## CREATE ANY NEEDED FOLDERS\n",
    "    # Get the Folder Name only\n",
    "    folder = os.path.dirname(JSON_FILE)\n",
    "    \n",
    "    ## If JSON_FILE included a folder:\n",
    "    if len(folder)>0:\n",
    "        # create the folder\n",
    "        os.makedirs(folder, exist_ok = True)\n",
    "        \n",
    "        \n",
    "    ## INFORM USER AND SAVE EMPTY LIST\n",
    "    with open(JSON_FILE, 'w') as f:\n",
    "        json.dump([], f)\n",
    "    \n",
    "    \n",
    "    ## save the first page of results\n",
    "else:\n",
    "    print(f'[i] {JSON_FILE} already exists')\n",
    "        \n",
    "## If it exists, inform user\n"
   ]
  },
  {
   "cell_type": "markdown",
   "metadata": {},
   "source": [
    "### Load JSON FIle and account for previous results"
   ]
  },
  {
   "cell_type": "code",
   "execution_count": null,
   "metadata": {},
   "outputs": [],
   "source": [
    "## Load previous results and use len of results for offset\n",
    "\n",
    "## set offset based on previous results\n"
   ]
  },
  {
   "cell_type": "markdown",
   "metadata": {},
   "source": [
    "### Make the first API call to get the first page of data"
   ]
  },
  {
   "cell_type": "markdown",
   "metadata": {},
   "source": [
    "- We will use this first result to check:\n",
    "    - how many total results there are?\n",
    "    - Where is the actual data we want to save?\n",
    "    - how many results do we get at a time?\n"
   ]
  },
  {
   "cell_type": "code",
   "execution_count": 11,
   "metadata": {},
   "outputs": [],
   "source": [
    "# use our yelp_api variable's search_query method to perform our API call\n",
    "results = yelp_api.search_query(term = term, location = location)"
   ]
  },
  {
   "cell_type": "code",
   "execution_count": 14,
   "metadata": {
    "ExecuteTime": {
     "end_time": "2022-03-24T20:01:48.867510Z",
     "start_time": "2022-03-24T20:01:48.854746Z"
    },
    "colab": {
     "base_uri": "https://localhost:8080/"
    },
    "id": "Myur3i1KGhPf",
    "outputId": "f447c6f9-596b-41d0-ccda-50af0ce82108"
   },
   "outputs": [
    {
     "data": {
      "text/plain": [
       "361"
      ]
     },
     "execution_count": 14,
     "metadata": {},
     "output_type": "execute_result"
    }
   ],
   "source": [
    "## How many results total?\n",
    "results['total']"
   ]
  },
  {
   "cell_type": "markdown",
   "metadata": {},
   "source": [
    "- Where is the actual data we want to save?"
   ]
  },
  {
   "cell_type": "code",
   "execution_count": 19,
   "metadata": {},
   "outputs": [
    {
     "data": {
      "text/html": [
       "<div>\n",
       "<style scoped>\n",
       "    .dataframe tbody tr th:only-of-type {\n",
       "        vertical-align: middle;\n",
       "    }\n",
       "\n",
       "    .dataframe tbody tr th {\n",
       "        vertical-align: top;\n",
       "    }\n",
       "\n",
       "    .dataframe thead th {\n",
       "        text-align: right;\n",
       "    }\n",
       "</style>\n",
       "<table border=\"1\" class=\"dataframe\">\n",
       "  <thead>\n",
       "    <tr style=\"text-align: right;\">\n",
       "      <th></th>\n",
       "      <th>id</th>\n",
       "      <th>alias</th>\n",
       "      <th>name</th>\n",
       "      <th>image_url</th>\n",
       "      <th>is_closed</th>\n",
       "      <th>url</th>\n",
       "      <th>review_count</th>\n",
       "      <th>categories</th>\n",
       "      <th>rating</th>\n",
       "      <th>coordinates</th>\n",
       "      <th>transactions</th>\n",
       "      <th>price</th>\n",
       "      <th>location</th>\n",
       "      <th>phone</th>\n",
       "      <th>display_phone</th>\n",
       "      <th>distance</th>\n",
       "    </tr>\n",
       "  </thead>\n",
       "  <tbody>\n",
       "    <tr>\n",
       "      <th>0</th>\n",
       "      <td>IQpWgpVj6Z4BzvcdATBI_Q</td>\n",
       "      <td>momo-sushi-minneapolis-2</td>\n",
       "      <td>Momo Sushi</td>\n",
       "      <td>https://s3-media4.fl.yelpcdn.com/bphoto/TwKhmv...</td>\n",
       "      <td>False</td>\n",
       "      <td>https://www.yelp.com/biz/momo-sushi-minneapoli...</td>\n",
       "      <td>204</td>\n",
       "      <td>[{'alias': 'japanese', 'title': 'Japanese'}, {...</td>\n",
       "      <td>4.5</td>\n",
       "      <td>{'latitude': 45.00734, 'longitude': -93.24697}</td>\n",
       "      <td>[pickup, delivery]</td>\n",
       "      <td>$$</td>\n",
       "      <td>{'address1': '1839 Central Ave NE', 'address2'...</td>\n",
       "      <td>+16127899190</td>\n",
       "      <td>(612) 789-9190</td>\n",
       "      <td>4261.697447</td>\n",
       "    </tr>\n",
       "    <tr>\n",
       "      <th>1</th>\n",
       "      <td>mTnoCM3BrLttWb7m9P5SQQ</td>\n",
       "      <td>wakame-sushi-and-asian-bistro-minneapolis</td>\n",
       "      <td>Wakame Sushi &amp; Asian Bistro</td>\n",
       "      <td>https://s3-media1.fl.yelpcdn.com/bphoto/_PG51j...</td>\n",
       "      <td>False</td>\n",
       "      <td>https://www.yelp.com/biz/wakame-sushi-and-asia...</td>\n",
       "      <td>819</td>\n",
       "      <td>[{'alias': 'sushi', 'title': 'Sushi Bars'}, {'...</td>\n",
       "      <td>4.0</td>\n",
       "      <td>{'latitude': 44.946802, 'longitude': -93.321968}</td>\n",
       "      <td>[]</td>\n",
       "      <td>$$</td>\n",
       "      <td>{'address1': '3070 Excelsior Blvd', 'address2'...</td>\n",
       "      <td>+16128862484</td>\n",
       "      <td>(612) 886-2484</td>\n",
       "      <td>5431.153227</td>\n",
       "    </tr>\n",
       "    <tr>\n",
       "      <th>2</th>\n",
       "      <td>kcf7Bc1KKk-qoGJ2QIQVvw</td>\n",
       "      <td>billy-sushi-minneapolis</td>\n",
       "      <td>Billy Sushi</td>\n",
       "      <td>https://s3-media3.fl.yelpcdn.com/bphoto/ynRfeG...</td>\n",
       "      <td>False</td>\n",
       "      <td>https://www.yelp.com/biz/billy-sushi-minneapol...</td>\n",
       "      <td>214</td>\n",
       "      <td>[{'alias': 'japanese', 'title': 'Japanese'}, {...</td>\n",
       "      <td>4.0</td>\n",
       "      <td>{'latitude': 44.984156, 'longitude': -93.26878...</td>\n",
       "      <td>[delivery]</td>\n",
       "      <td>$$$</td>\n",
       "      <td>{'address1': '116 N First Ave', 'address2': No...</td>\n",
       "      <td></td>\n",
       "      <td></td>\n",
       "      <td>1627.114072</td>\n",
       "    </tr>\n",
       "    <tr>\n",
       "      <th>3</th>\n",
       "      <td>RFLSUYCsAAJAneScJl51gA</td>\n",
       "      <td>kura-revolving-sushi-bar-bloomington-3</td>\n",
       "      <td>Kura Revolving Sushi Bar</td>\n",
       "      <td>https://s3-media4.fl.yelpcdn.com/bphoto/cjVtPO...</td>\n",
       "      <td>False</td>\n",
       "      <td>https://www.yelp.com/biz/kura-revolving-sushi-...</td>\n",
       "      <td>39</td>\n",
       "      <td>[{'alias': 'conveyorsushi', 'title': 'Conveyor...</td>\n",
       "      <td>4.0</td>\n",
       "      <td>{'latitude': 44.851055585227364, 'longitude': ...</td>\n",
       "      <td>[]</td>\n",
       "      <td>NaN</td>\n",
       "      <td>{'address1': '378 N Garden', 'address2': '', '...</td>\n",
       "      <td></td>\n",
       "      <td></td>\n",
       "      <td>13388.384050</td>\n",
       "    </tr>\n",
       "    <tr>\n",
       "      <th>4</th>\n",
       "      <td>FR9ZFGmwrrxCrolxZDy6NQ</td>\n",
       "      <td>sushi-train-minneapolis</td>\n",
       "      <td>Sushi Train</td>\n",
       "      <td>https://s3-media3.fl.yelpcdn.com/bphoto/wlQO7g...</td>\n",
       "      <td>False</td>\n",
       "      <td>https://www.yelp.com/biz/sushi-train-minneapol...</td>\n",
       "      <td>345</td>\n",
       "      <td>[{'alias': 'sushi', 'title': 'Sushi Bars'}, {'...</td>\n",
       "      <td>3.5</td>\n",
       "      <td>{'latitude': 44.971904, 'longitude': -93.276914}</td>\n",
       "      <td>[pickup, delivery]</td>\n",
       "      <td>$$</td>\n",
       "      <td>{'address1': '1200 Nicollet Mall', 'address2':...</td>\n",
       "      <td>+16122598488</td>\n",
       "      <td>(612) 259-8488</td>\n",
       "      <td>1218.244125</td>\n",
       "    </tr>\n",
       "  </tbody>\n",
       "</table>\n",
       "</div>"
      ],
      "text/plain": [
       "                       id                                      alias  \\\n",
       "0  IQpWgpVj6Z4BzvcdATBI_Q                   momo-sushi-minneapolis-2   \n",
       "1  mTnoCM3BrLttWb7m9P5SQQ  wakame-sushi-and-asian-bistro-minneapolis   \n",
       "2  kcf7Bc1KKk-qoGJ2QIQVvw                    billy-sushi-minneapolis   \n",
       "3  RFLSUYCsAAJAneScJl51gA     kura-revolving-sushi-bar-bloomington-3   \n",
       "4  FR9ZFGmwrrxCrolxZDy6NQ                    sushi-train-minneapolis   \n",
       "\n",
       "                          name  \\\n",
       "0                   Momo Sushi   \n",
       "1  Wakame Sushi & Asian Bistro   \n",
       "2                  Billy Sushi   \n",
       "3     Kura Revolving Sushi Bar   \n",
       "4                  Sushi Train   \n",
       "\n",
       "                                           image_url  is_closed  \\\n",
       "0  https://s3-media4.fl.yelpcdn.com/bphoto/TwKhmv...      False   \n",
       "1  https://s3-media1.fl.yelpcdn.com/bphoto/_PG51j...      False   \n",
       "2  https://s3-media3.fl.yelpcdn.com/bphoto/ynRfeG...      False   \n",
       "3  https://s3-media4.fl.yelpcdn.com/bphoto/cjVtPO...      False   \n",
       "4  https://s3-media3.fl.yelpcdn.com/bphoto/wlQO7g...      False   \n",
       "\n",
       "                                                 url  review_count  \\\n",
       "0  https://www.yelp.com/biz/momo-sushi-minneapoli...           204   \n",
       "1  https://www.yelp.com/biz/wakame-sushi-and-asia...           819   \n",
       "2  https://www.yelp.com/biz/billy-sushi-minneapol...           214   \n",
       "3  https://www.yelp.com/biz/kura-revolving-sushi-...            39   \n",
       "4  https://www.yelp.com/biz/sushi-train-minneapol...           345   \n",
       "\n",
       "                                          categories  rating  \\\n",
       "0  [{'alias': 'japanese', 'title': 'Japanese'}, {...     4.5   \n",
       "1  [{'alias': 'sushi', 'title': 'Sushi Bars'}, {'...     4.0   \n",
       "2  [{'alias': 'japanese', 'title': 'Japanese'}, {...     4.0   \n",
       "3  [{'alias': 'conveyorsushi', 'title': 'Conveyor...     4.0   \n",
       "4  [{'alias': 'sushi', 'title': 'Sushi Bars'}, {'...     3.5   \n",
       "\n",
       "                                         coordinates        transactions  \\\n",
       "0     {'latitude': 45.00734, 'longitude': -93.24697}  [pickup, delivery]   \n",
       "1   {'latitude': 44.946802, 'longitude': -93.321968}                  []   \n",
       "2  {'latitude': 44.984156, 'longitude': -93.26878...          [delivery]   \n",
       "3  {'latitude': 44.851055585227364, 'longitude': ...                  []   \n",
       "4   {'latitude': 44.971904, 'longitude': -93.276914}  [pickup, delivery]   \n",
       "\n",
       "  price                                           location         phone  \\\n",
       "0    $$  {'address1': '1839 Central Ave NE', 'address2'...  +16127899190   \n",
       "1    $$  {'address1': '3070 Excelsior Blvd', 'address2'...  +16128862484   \n",
       "2   $$$  {'address1': '116 N First Ave', 'address2': No...                 \n",
       "3   NaN  {'address1': '378 N Garden', 'address2': '', '...                 \n",
       "4    $$  {'address1': '1200 Nicollet Mall', 'address2':...  +16122598488   \n",
       "\n",
       "    display_phone      distance  \n",
       "0  (612) 789-9190   4261.697447  \n",
       "1  (612) 886-2484   5431.153227  \n",
       "2                   1627.114072  \n",
       "3                  13388.384050  \n",
       "4  (612) 259-8488   1218.244125  "
      ]
     },
     "execution_count": 19,
     "metadata": {},
     "output_type": "execute_result"
    }
   ],
   "source": [
    "biz = pd.DataFrame(results['businesses'])\n",
    "biz.head()"
   ]
  },
  {
   "cell_type": "code",
   "execution_count": 20,
   "metadata": {},
   "outputs": [
    {
     "data": {
      "text/plain": [
       "20"
      ]
     },
     "execution_count": 20,
     "metadata": {},
     "output_type": "execute_result"
    }
   ],
   "source": [
    "## How many did we get the details for?\n",
    "results_per_page = len(results['businesses'])\n",
    "results_per_page"
   ]
  },
  {
   "cell_type": "markdown",
   "metadata": {},
   "source": [
    "- Calculate how many pages of results needed to cover the total_results"
   ]
  },
  {
   "cell_type": "code",
   "execution_count": 21,
   "metadata": {},
   "outputs": [
    {
     "data": {
      "text/plain": [
       "19"
      ]
     },
     "execution_count": 21,
     "metadata": {},
     "output_type": "execute_result"
    }
   ],
   "source": [
    "# Use math.ceil to round up for the total number of pages of results.\n",
    "n_pages = math.ceil((results['total'])/results_per_page)\n",
    "n_pages"
   ]
  },
  {
   "cell_type": "code",
   "execution_count": 22,
   "metadata": {},
   "outputs": [
    {
     "data": {
      "application/vnd.jupyter.widget-view+json": {
       "model_id": "7be8bdae16894d61a55f2a97341c1126",
       "version_major": 2,
       "version_minor": 0
      },
      "text/plain": [
       "  0%|          | 0/19 [00:00<?, ?it/s]"
      ]
     },
     "metadata": {},
     "output_type": "display_data"
    }
   ],
   "source": [
    "for i in tqdm_notebook( range(1,n_pages+1)):\n",
    "    ## The block of code we want to TRY to run\n",
    "    try:\n",
    "        time.sleep(.2)\n",
    "        \n",
    "        ## Read in results in progress file and check the length\n",
    "        with open(JSON_FILE, 'r') as f:\n",
    "            previous_results = json.load(f)\n",
    "        \n",
    "        ## save number of results for to use as offset\n",
    "        n_results = len(previous_results)\n",
    "        \n",
    "        \n",
    "        ## use n_results as the OFFSET \n",
    "        results = yelp_api.search_query(location = location, term = term, offset = n_results+1)\n",
    "\n",
    "        ## append new results and save to file\n",
    "        # append would only store one record, extend will store all records\n",
    "        previous_results.extend(results['businesses'])\n",
    "        \n",
    "        with open(JSON_FILE, 'w') as f:\n",
    "            json.dump(previous_results, f)\n",
    "\n",
    "            \n",
    "    ## What to do if we get an error/exception.\n",
    "    except Exception as e:\n",
    "        print('[!] ERROR', e)\n"
   ]
  },
  {
   "cell_type": "markdown",
   "metadata": {},
   "source": [
    "## Open the Final JSON File with Pandas"
   ]
  },
  {
   "cell_type": "code",
   "execution_count": 24,
   "metadata": {},
   "outputs": [
    {
     "name": "stdout",
     "output_type": "stream",
     "text": [
      "<class 'pandas.core.frame.DataFrame'>\n",
      "RangeIndex: 360 entries, 0 to 359\n",
      "Data columns (total 16 columns):\n",
      " #   Column         Non-Null Count  Dtype  \n",
      "---  ------         --------------  -----  \n",
      " 0   id             360 non-null    object \n",
      " 1   alias          360 non-null    object \n",
      " 2   name           360 non-null    object \n",
      " 3   image_url      360 non-null    object \n",
      " 4   is_closed      360 non-null    bool   \n",
      " 5   url            360 non-null    object \n",
      " 6   review_count   360 non-null    int64  \n",
      " 7   categories     360 non-null    object \n",
      " 8   rating         360 non-null    float64\n",
      " 9   coordinates    360 non-null    object \n",
      " 10  transactions   360 non-null    object \n",
      " 11  price          298 non-null    object \n",
      " 12  location       360 non-null    object \n",
      " 13  phone          360 non-null    object \n",
      " 14  display_phone  360 non-null    object \n",
      " 15  distance       360 non-null    float64\n",
      "dtypes: bool(1), float64(2), int64(1), object(12)\n",
      "memory usage: 42.7+ KB\n"
     ]
    }
   ],
   "source": [
    "with open(JSON_FILE, 'r') as f:\n",
    "    temp = json.load(f)\n",
    "\n",
    "\n",
    "df = pd.DataFrame(temp)\n",
    "df.info()"
   ]
  },
  {
   "cell_type": "code",
   "execution_count": 25,
   "metadata": {},
   "outputs": [
    {
     "data": {
      "text/html": [
       "<div>\n",
       "<style scoped>\n",
       "    .dataframe tbody tr th:only-of-type {\n",
       "        vertical-align: middle;\n",
       "    }\n",
       "\n",
       "    .dataframe tbody tr th {\n",
       "        vertical-align: top;\n",
       "    }\n",
       "\n",
       "    .dataframe thead th {\n",
       "        text-align: right;\n",
       "    }\n",
       "</style>\n",
       "<table border=\"1\" class=\"dataframe\">\n",
       "  <thead>\n",
       "    <tr style=\"text-align: right;\">\n",
       "      <th></th>\n",
       "      <th>id</th>\n",
       "      <th>alias</th>\n",
       "      <th>name</th>\n",
       "      <th>image_url</th>\n",
       "      <th>is_closed</th>\n",
       "      <th>url</th>\n",
       "      <th>review_count</th>\n",
       "      <th>categories</th>\n",
       "      <th>rating</th>\n",
       "      <th>coordinates</th>\n",
       "      <th>transactions</th>\n",
       "      <th>price</th>\n",
       "      <th>location</th>\n",
       "      <th>phone</th>\n",
       "      <th>display_phone</th>\n",
       "      <th>distance</th>\n",
       "    </tr>\n",
       "  </thead>\n",
       "  <tbody>\n",
       "    <tr>\n",
       "      <th>0</th>\n",
       "      <td>mTnoCM3BrLttWb7m9P5SQQ</td>\n",
       "      <td>wakame-sushi-and-asian-bistro-minneapolis</td>\n",
       "      <td>Wakame Sushi &amp; Asian Bistro</td>\n",
       "      <td>https://s3-media1.fl.yelpcdn.com/bphoto/_PG51j...</td>\n",
       "      <td>False</td>\n",
       "      <td>https://www.yelp.com/biz/wakame-sushi-and-asia...</td>\n",
       "      <td>819</td>\n",
       "      <td>[{'alias': 'sushi', 'title': 'Sushi Bars'}, {'...</td>\n",
       "      <td>4.0</td>\n",
       "      <td>{'latitude': 44.946802, 'longitude': -93.321968}</td>\n",
       "      <td>[]</td>\n",
       "      <td>$$</td>\n",
       "      <td>{'address1': '3070 Excelsior Blvd', 'address2'...</td>\n",
       "      <td>+16128862484</td>\n",
       "      <td>(612) 886-2484</td>\n",
       "      <td>5431.153227</td>\n",
       "    </tr>\n",
       "    <tr>\n",
       "      <th>1</th>\n",
       "      <td>kcf7Bc1KKk-qoGJ2QIQVvw</td>\n",
       "      <td>billy-sushi-minneapolis</td>\n",
       "      <td>Billy Sushi</td>\n",
       "      <td>https://s3-media3.fl.yelpcdn.com/bphoto/ynRfeG...</td>\n",
       "      <td>False</td>\n",
       "      <td>https://www.yelp.com/biz/billy-sushi-minneapol...</td>\n",
       "      <td>214</td>\n",
       "      <td>[{'alias': 'japanese', 'title': 'Japanese'}, {...</td>\n",
       "      <td>4.0</td>\n",
       "      <td>{'latitude': 44.984156, 'longitude': -93.26878...</td>\n",
       "      <td>[delivery]</td>\n",
       "      <td>$$$</td>\n",
       "      <td>{'address1': '116 N First Ave', 'address2': No...</td>\n",
       "      <td></td>\n",
       "      <td></td>\n",
       "      <td>1627.114072</td>\n",
       "    </tr>\n",
       "    <tr>\n",
       "      <th>2</th>\n",
       "      <td>RFLSUYCsAAJAneScJl51gA</td>\n",
       "      <td>kura-revolving-sushi-bar-bloomington-3</td>\n",
       "      <td>Kura Revolving Sushi Bar</td>\n",
       "      <td>https://s3-media4.fl.yelpcdn.com/bphoto/cjVtPO...</td>\n",
       "      <td>False</td>\n",
       "      <td>https://www.yelp.com/biz/kura-revolving-sushi-...</td>\n",
       "      <td>39</td>\n",
       "      <td>[{'alias': 'conveyorsushi', 'title': 'Conveyor...</td>\n",
       "      <td>4.0</td>\n",
       "      <td>{'latitude': 44.851055585227364, 'longitude': ...</td>\n",
       "      <td>[]</td>\n",
       "      <td>NaN</td>\n",
       "      <td>{'address1': '378 N Garden', 'address2': '', '...</td>\n",
       "      <td></td>\n",
       "      <td></td>\n",
       "      <td>13388.384050</td>\n",
       "    </tr>\n",
       "    <tr>\n",
       "      <th>3</th>\n",
       "      <td>FR9ZFGmwrrxCrolxZDy6NQ</td>\n",
       "      <td>sushi-train-minneapolis</td>\n",
       "      <td>Sushi Train</td>\n",
       "      <td>https://s3-media3.fl.yelpcdn.com/bphoto/wlQO7g...</td>\n",
       "      <td>False</td>\n",
       "      <td>https://www.yelp.com/biz/sushi-train-minneapol...</td>\n",
       "      <td>345</td>\n",
       "      <td>[{'alias': 'sushi', 'title': 'Sushi Bars'}, {'...</td>\n",
       "      <td>3.5</td>\n",
       "      <td>{'latitude': 44.971904, 'longitude': -93.276914}</td>\n",
       "      <td>[delivery, pickup]</td>\n",
       "      <td>$$</td>\n",
       "      <td>{'address1': '1200 Nicollet Mall', 'address2':...</td>\n",
       "      <td>+16122598488</td>\n",
       "      <td>(612) 259-8488</td>\n",
       "      <td>1218.244125</td>\n",
       "    </tr>\n",
       "    <tr>\n",
       "      <th>4</th>\n",
       "      <td>ddpjLv0P6iu7p1dRGCPWWw</td>\n",
       "      <td>sushi-takatsu-minneapolis</td>\n",
       "      <td>Sushi Takatsu</td>\n",
       "      <td>https://s3-media1.fl.yelpcdn.com/bphoto/WVD-r_...</td>\n",
       "      <td>False</td>\n",
       "      <td>https://www.yelp.com/biz/sushi-takatsu-minneap...</td>\n",
       "      <td>142</td>\n",
       "      <td>[{'alias': 'sushi', 'title': 'Sushi Bars'}, {'...</td>\n",
       "      <td>4.5</td>\n",
       "      <td>{'latitude': 44.9760103, 'longitude': -93.2709...</td>\n",
       "      <td>[delivery, pickup]</td>\n",
       "      <td>$</td>\n",
       "      <td>{'address1': '733 Marquette Ave', 'address2': ...</td>\n",
       "      <td>+16123395981</td>\n",
       "      <td>(612) 339-5981</td>\n",
       "      <td>946.209834</td>\n",
       "    </tr>\n",
       "  </tbody>\n",
       "</table>\n",
       "</div>"
      ],
      "text/plain": [
       "                       id                                      alias  \\\n",
       "0  mTnoCM3BrLttWb7m9P5SQQ  wakame-sushi-and-asian-bistro-minneapolis   \n",
       "1  kcf7Bc1KKk-qoGJ2QIQVvw                    billy-sushi-minneapolis   \n",
       "2  RFLSUYCsAAJAneScJl51gA     kura-revolving-sushi-bar-bloomington-3   \n",
       "3  FR9ZFGmwrrxCrolxZDy6NQ                    sushi-train-minneapolis   \n",
       "4  ddpjLv0P6iu7p1dRGCPWWw                  sushi-takatsu-minneapolis   \n",
       "\n",
       "                          name  \\\n",
       "0  Wakame Sushi & Asian Bistro   \n",
       "1                  Billy Sushi   \n",
       "2     Kura Revolving Sushi Bar   \n",
       "3                  Sushi Train   \n",
       "4                Sushi Takatsu   \n",
       "\n",
       "                                           image_url  is_closed  \\\n",
       "0  https://s3-media1.fl.yelpcdn.com/bphoto/_PG51j...      False   \n",
       "1  https://s3-media3.fl.yelpcdn.com/bphoto/ynRfeG...      False   \n",
       "2  https://s3-media4.fl.yelpcdn.com/bphoto/cjVtPO...      False   \n",
       "3  https://s3-media3.fl.yelpcdn.com/bphoto/wlQO7g...      False   \n",
       "4  https://s3-media1.fl.yelpcdn.com/bphoto/WVD-r_...      False   \n",
       "\n",
       "                                                 url  review_count  \\\n",
       "0  https://www.yelp.com/biz/wakame-sushi-and-asia...           819   \n",
       "1  https://www.yelp.com/biz/billy-sushi-minneapol...           214   \n",
       "2  https://www.yelp.com/biz/kura-revolving-sushi-...            39   \n",
       "3  https://www.yelp.com/biz/sushi-train-minneapol...           345   \n",
       "4  https://www.yelp.com/biz/sushi-takatsu-minneap...           142   \n",
       "\n",
       "                                          categories  rating  \\\n",
       "0  [{'alias': 'sushi', 'title': 'Sushi Bars'}, {'...     4.0   \n",
       "1  [{'alias': 'japanese', 'title': 'Japanese'}, {...     4.0   \n",
       "2  [{'alias': 'conveyorsushi', 'title': 'Conveyor...     4.0   \n",
       "3  [{'alias': 'sushi', 'title': 'Sushi Bars'}, {'...     3.5   \n",
       "4  [{'alias': 'sushi', 'title': 'Sushi Bars'}, {'...     4.5   \n",
       "\n",
       "                                         coordinates        transactions  \\\n",
       "0   {'latitude': 44.946802, 'longitude': -93.321968}                  []   \n",
       "1  {'latitude': 44.984156, 'longitude': -93.26878...          [delivery]   \n",
       "2  {'latitude': 44.851055585227364, 'longitude': ...                  []   \n",
       "3   {'latitude': 44.971904, 'longitude': -93.276914}  [delivery, pickup]   \n",
       "4  {'latitude': 44.9760103, 'longitude': -93.2709...  [delivery, pickup]   \n",
       "\n",
       "  price                                           location         phone  \\\n",
       "0    $$  {'address1': '3070 Excelsior Blvd', 'address2'...  +16128862484   \n",
       "1   $$$  {'address1': '116 N First Ave', 'address2': No...                 \n",
       "2   NaN  {'address1': '378 N Garden', 'address2': '', '...                 \n",
       "3    $$  {'address1': '1200 Nicollet Mall', 'address2':...  +16122598488   \n",
       "4     $  {'address1': '733 Marquette Ave', 'address2': ...  +16123395981   \n",
       "\n",
       "    display_phone      distance  \n",
       "0  (612) 886-2484   5431.153227  \n",
       "1                   1627.114072  \n",
       "2                  13388.384050  \n",
       "3  (612) 259-8488   1218.244125  \n",
       "4  (612) 339-5981    946.209834  "
      ]
     },
     "execution_count": 25,
     "metadata": {},
     "output_type": "execute_result"
    }
   ],
   "source": [
    "df.head()"
   ]
  },
  {
   "cell_type": "code",
   "execution_count": 27,
   "metadata": {},
   "outputs": [
    {
     "data": {
      "text/html": [
       "<div>\n",
       "<style scoped>\n",
       "    .dataframe tbody tr th:only-of-type {\n",
       "        vertical-align: middle;\n",
       "    }\n",
       "\n",
       "    .dataframe tbody tr th {\n",
       "        vertical-align: top;\n",
       "    }\n",
       "\n",
       "    .dataframe thead th {\n",
       "        text-align: right;\n",
       "    }\n",
       "</style>\n",
       "<table border=\"1\" class=\"dataframe\">\n",
       "  <thead>\n",
       "    <tr style=\"text-align: right;\">\n",
       "      <th></th>\n",
       "      <th>id</th>\n",
       "      <th>alias</th>\n",
       "      <th>name</th>\n",
       "      <th>image_url</th>\n",
       "      <th>is_closed</th>\n",
       "      <th>url</th>\n",
       "      <th>review_count</th>\n",
       "      <th>categories</th>\n",
       "      <th>rating</th>\n",
       "      <th>coordinates</th>\n",
       "      <th>transactions</th>\n",
       "      <th>price</th>\n",
       "      <th>location</th>\n",
       "      <th>phone</th>\n",
       "      <th>display_phone</th>\n",
       "      <th>distance</th>\n",
       "    </tr>\n",
       "  </thead>\n",
       "  <tbody>\n",
       "    <tr>\n",
       "      <th>0</th>\n",
       "      <td>mTnoCM3BrLttWb7m9P5SQQ</td>\n",
       "      <td>wakame-sushi-and-asian-bistro-minneapolis</td>\n",
       "      <td>Wakame Sushi &amp; Asian Bistro</td>\n",
       "      <td>https://s3-media1.fl.yelpcdn.com/bphoto/_PG51j...</td>\n",
       "      <td>False</td>\n",
       "      <td>https://www.yelp.com/biz/wakame-sushi-and-asia...</td>\n",
       "      <td>819</td>\n",
       "      <td>[{'alias': 'sushi', 'title': 'Sushi Bars'}, {'...</td>\n",
       "      <td>4.0</td>\n",
       "      <td>{'latitude': 44.946802, 'longitude': -93.321968}</td>\n",
       "      <td>[]</td>\n",
       "      <td>$$</td>\n",
       "      <td>{'address1': '3070 Excelsior Blvd', 'address2'...</td>\n",
       "      <td>+16128862484</td>\n",
       "      <td>(612) 886-2484</td>\n",
       "      <td>5431.153227</td>\n",
       "    </tr>\n",
       "    <tr>\n",
       "      <th>1</th>\n",
       "      <td>kcf7Bc1KKk-qoGJ2QIQVvw</td>\n",
       "      <td>billy-sushi-minneapolis</td>\n",
       "      <td>Billy Sushi</td>\n",
       "      <td>https://s3-media3.fl.yelpcdn.com/bphoto/ynRfeG...</td>\n",
       "      <td>False</td>\n",
       "      <td>https://www.yelp.com/biz/billy-sushi-minneapol...</td>\n",
       "      <td>214</td>\n",
       "      <td>[{'alias': 'japanese', 'title': 'Japanese'}, {...</td>\n",
       "      <td>4.0</td>\n",
       "      <td>{'latitude': 44.984156, 'longitude': -93.26878...</td>\n",
       "      <td>[delivery]</td>\n",
       "      <td>$$$</td>\n",
       "      <td>{'address1': '116 N First Ave', 'address2': No...</td>\n",
       "      <td></td>\n",
       "      <td></td>\n",
       "      <td>1627.114072</td>\n",
       "    </tr>\n",
       "    <tr>\n",
       "      <th>2</th>\n",
       "      <td>RFLSUYCsAAJAneScJl51gA</td>\n",
       "      <td>kura-revolving-sushi-bar-bloomington-3</td>\n",
       "      <td>Kura Revolving Sushi Bar</td>\n",
       "      <td>https://s3-media4.fl.yelpcdn.com/bphoto/cjVtPO...</td>\n",
       "      <td>False</td>\n",
       "      <td>https://www.yelp.com/biz/kura-revolving-sushi-...</td>\n",
       "      <td>39</td>\n",
       "      <td>[{'alias': 'conveyorsushi', 'title': 'Conveyor...</td>\n",
       "      <td>4.0</td>\n",
       "      <td>{'latitude': 44.851055585227364, 'longitude': ...</td>\n",
       "      <td>[]</td>\n",
       "      <td>NaN</td>\n",
       "      <td>{'address1': '378 N Garden', 'address2': '', '...</td>\n",
       "      <td></td>\n",
       "      <td></td>\n",
       "      <td>13388.384050</td>\n",
       "    </tr>\n",
       "    <tr>\n",
       "      <th>3</th>\n",
       "      <td>FR9ZFGmwrrxCrolxZDy6NQ</td>\n",
       "      <td>sushi-train-minneapolis</td>\n",
       "      <td>Sushi Train</td>\n",
       "      <td>https://s3-media3.fl.yelpcdn.com/bphoto/wlQO7g...</td>\n",
       "      <td>False</td>\n",
       "      <td>https://www.yelp.com/biz/sushi-train-minneapol...</td>\n",
       "      <td>345</td>\n",
       "      <td>[{'alias': 'sushi', 'title': 'Sushi Bars'}, {'...</td>\n",
       "      <td>3.5</td>\n",
       "      <td>{'latitude': 44.971904, 'longitude': -93.276914}</td>\n",
       "      <td>[delivery, pickup]</td>\n",
       "      <td>$$</td>\n",
       "      <td>{'address1': '1200 Nicollet Mall', 'address2':...</td>\n",
       "      <td>+16122598488</td>\n",
       "      <td>(612) 259-8488</td>\n",
       "      <td>1218.244125</td>\n",
       "    </tr>\n",
       "    <tr>\n",
       "      <th>4</th>\n",
       "      <td>ddpjLv0P6iu7p1dRGCPWWw</td>\n",
       "      <td>sushi-takatsu-minneapolis</td>\n",
       "      <td>Sushi Takatsu</td>\n",
       "      <td>https://s3-media1.fl.yelpcdn.com/bphoto/WVD-r_...</td>\n",
       "      <td>False</td>\n",
       "      <td>https://www.yelp.com/biz/sushi-takatsu-minneap...</td>\n",
       "      <td>142</td>\n",
       "      <td>[{'alias': 'sushi', 'title': 'Sushi Bars'}, {'...</td>\n",
       "      <td>4.5</td>\n",
       "      <td>{'latitude': 44.9760103, 'longitude': -93.2709...</td>\n",
       "      <td>[delivery, pickup]</td>\n",
       "      <td>$</td>\n",
       "      <td>{'address1': '733 Marquette Ave', 'address2': ...</td>\n",
       "      <td>+16123395981</td>\n",
       "      <td>(612) 339-5981</td>\n",
       "      <td>946.209834</td>\n",
       "    </tr>\n",
       "  </tbody>\n",
       "</table>\n",
       "</div>"
      ],
      "text/plain": [
       "                       id                                      alias  \\\n",
       "0  mTnoCM3BrLttWb7m9P5SQQ  wakame-sushi-and-asian-bistro-minneapolis   \n",
       "1  kcf7Bc1KKk-qoGJ2QIQVvw                    billy-sushi-minneapolis   \n",
       "2  RFLSUYCsAAJAneScJl51gA     kura-revolving-sushi-bar-bloomington-3   \n",
       "3  FR9ZFGmwrrxCrolxZDy6NQ                    sushi-train-minneapolis   \n",
       "4  ddpjLv0P6iu7p1dRGCPWWw                  sushi-takatsu-minneapolis   \n",
       "\n",
       "                          name  \\\n",
       "0  Wakame Sushi & Asian Bistro   \n",
       "1                  Billy Sushi   \n",
       "2     Kura Revolving Sushi Bar   \n",
       "3                  Sushi Train   \n",
       "4                Sushi Takatsu   \n",
       "\n",
       "                                           image_url  is_closed  \\\n",
       "0  https://s3-media1.fl.yelpcdn.com/bphoto/_PG51j...      False   \n",
       "1  https://s3-media3.fl.yelpcdn.com/bphoto/ynRfeG...      False   \n",
       "2  https://s3-media4.fl.yelpcdn.com/bphoto/cjVtPO...      False   \n",
       "3  https://s3-media3.fl.yelpcdn.com/bphoto/wlQO7g...      False   \n",
       "4  https://s3-media1.fl.yelpcdn.com/bphoto/WVD-r_...      False   \n",
       "\n",
       "                                                 url  review_count  \\\n",
       "0  https://www.yelp.com/biz/wakame-sushi-and-asia...           819   \n",
       "1  https://www.yelp.com/biz/billy-sushi-minneapol...           214   \n",
       "2  https://www.yelp.com/biz/kura-revolving-sushi-...            39   \n",
       "3  https://www.yelp.com/biz/sushi-train-minneapol...           345   \n",
       "4  https://www.yelp.com/biz/sushi-takatsu-minneap...           142   \n",
       "\n",
       "                                          categories  rating  \\\n",
       "0  [{'alias': 'sushi', 'title': 'Sushi Bars'}, {'...     4.0   \n",
       "1  [{'alias': 'japanese', 'title': 'Japanese'}, {...     4.0   \n",
       "2  [{'alias': 'conveyorsushi', 'title': 'Conveyor...     4.0   \n",
       "3  [{'alias': 'sushi', 'title': 'Sushi Bars'}, {'...     3.5   \n",
       "4  [{'alias': 'sushi', 'title': 'Sushi Bars'}, {'...     4.5   \n",
       "\n",
       "                                         coordinates        transactions  \\\n",
       "0   {'latitude': 44.946802, 'longitude': -93.321968}                  []   \n",
       "1  {'latitude': 44.984156, 'longitude': -93.26878...          [delivery]   \n",
       "2  {'latitude': 44.851055585227364, 'longitude': ...                  []   \n",
       "3   {'latitude': 44.971904, 'longitude': -93.276914}  [delivery, pickup]   \n",
       "4  {'latitude': 44.9760103, 'longitude': -93.2709...  [delivery, pickup]   \n",
       "\n",
       "  price                                           location         phone  \\\n",
       "0    $$  {'address1': '3070 Excelsior Blvd', 'address2'...  +16128862484   \n",
       "1   $$$  {'address1': '116 N First Ave', 'address2': No...                 \n",
       "2   NaN  {'address1': '378 N Garden', 'address2': '', '...                 \n",
       "3    $$  {'address1': '1200 Nicollet Mall', 'address2':...  +16122598488   \n",
       "4     $  {'address1': '733 Marquette Ave', 'address2': ...  +16123395981   \n",
       "\n",
       "    display_phone      distance  \n",
       "0  (612) 886-2484   5431.153227  \n",
       "1                   1627.114072  \n",
       "2                  13388.384050  \n",
       "3  (612) 259-8488   1218.244125  \n",
       "4  (612) 339-5981    946.209834  "
      ]
     },
     "metadata": {},
     "output_type": "display_data"
    },
    {
     "name": "stdout",
     "output_type": "stream",
     "text": [
      "<class 'pandas.core.frame.DataFrame'>\n",
      "RangeIndex: 360 entries, 0 to 359\n",
      "Data columns (total 16 columns):\n",
      " #   Column         Non-Null Count  Dtype  \n",
      "---  ------         --------------  -----  \n",
      " 0   id             360 non-null    object \n",
      " 1   alias          360 non-null    object \n",
      " 2   name           360 non-null    object \n",
      " 3   image_url      360 non-null    object \n",
      " 4   is_closed      360 non-null    bool   \n",
      " 5   url            360 non-null    object \n",
      " 6   review_count   360 non-null    int64  \n",
      " 7   categories     360 non-null    object \n",
      " 8   rating         360 non-null    float64\n",
      " 9   coordinates    360 non-null    object \n",
      " 10  transactions   360 non-null    object \n",
      " 11  price          298 non-null    object \n",
      " 12  location       360 non-null    object \n",
      " 13  phone          360 non-null    object \n",
      " 14  display_phone  360 non-null    object \n",
      " 15  distance       360 non-null    float64\n",
      "dtypes: bool(1), float64(2), int64(1), object(12)\n",
      "memory usage: 42.7+ KB\n"
     ]
    },
    {
     "data": {
      "text/plain": [
       "None"
      ]
     },
     "metadata": {},
     "output_type": "display_data"
    }
   ],
   "source": [
    "# or\n",
    "df_1 = pd.read_json(JSON_FILE)\n",
    "display(df_1.head())\n",
    "display(df_1.info())"
   ]
  },
  {
   "cell_type": "code",
   "execution_count": 28,
   "metadata": {},
   "outputs": [
    {
     "data": {
      "text/plain": [
       "'Data/Minneapolis-sushi.csv.gz'"
      ]
     },
     "execution_count": 28,
     "metadata": {},
     "output_type": "execute_result"
    }
   ],
   "source": [
    "## convert the filename to a .csv.gz\n",
    "csv_file = JSON_FILE.replace('.json','.csv.gz')\n",
    "csv_file"
   ]
  },
  {
   "cell_type": "code",
   "execution_count": 29,
   "metadata": {},
   "outputs": [],
   "source": [
    "## Save it as a compressed csv (to save space)\n",
    "## Save it as a compressed csv (to save space)\n",
    "df.to_csv(csv_file, compression='gzip', index=False)"
   ]
  },
  {
   "cell_type": "markdown",
   "metadata": {},
   "source": [
    "## Bonus: compare filesize with os module's `os.path.getsize`"
   ]
  },
  {
   "cell_type": "code",
   "execution_count": 30,
   "metadata": {},
   "outputs": [
    {
     "name": "stdout",
     "output_type": "stream",
     "text": [
      "JSON FILE: 355,129 Bytes\n",
      "CSV.GZ FILE: 53,198 Bytes\n",
      "the csv.gz is 6.675608105567878 times smaller!\n"
     ]
    }
   ],
   "source": [
    "size_json = os.path.getsize(JSON_FILE)\n",
    "size_csv_gz = os.path.getsize(JSON_FILE.replace('.json','.csv.gz'))\n",
    "\n",
    "print(f'JSON FILE: {size_json:,} Bytes')\n",
    "print(f'CSV.GZ FILE: {size_csv_gz:,} Bytes')\n",
    "\n",
    "print(f'the csv.gz is {size_json/size_csv_gz} times smaller!')"
   ]
  },
  {
   "cell_type": "markdown",
   "metadata": {},
   "source": [
    "## Next Class: Processing the Results and Mapping "
   ]
  }
 ],
 "metadata": {
  "colab": {
   "collapsed_sections": [],
   "name": "Test Yelp API Package.ipynb",
   "provenance": []
  },
  "kernelspec": {
   "display_name": "Python (dojo-env)",
   "language": "python",
   "name": "dojo-env"
  },
  "language_info": {
   "codemirror_mode": {
    "name": "ipython",
    "version": 3
   },
   "file_extension": ".py",
   "mimetype": "text/x-python",
   "name": "python",
   "nbconvert_exporter": "python",
   "pygments_lexer": "ipython3",
   "version": "3.9.15"
  },
  "toc": {
   "base_numbering": 1,
   "nav_menu": {},
   "number_sections": false,
   "sideBar": true,
   "skip_h1_title": false,
   "title_cell": "Table of Contents",
   "title_sidebar": "Contents",
   "toc_cell": false,
   "toc_position": {},
   "toc_section_display": true,
   "toc_window_display": false
  }
 },
 "nbformat": 4,
 "nbformat_minor": 1
}
